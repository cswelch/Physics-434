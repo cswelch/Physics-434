{
 "cells": [
  {
   "cell_type": "markdown",
   "id": "adf1ae09",
   "metadata": {},
   "source": [
    "# Homework 5\n",
    "\n",
    "\n",
    "For a simple counting experiment, the expected background event is $b$ and the observed event is $n$. \n",
    "The best estimator for signal event $s$ is:\n",
    "$$s=n-b.$$\n",
    "\n",
    "There are different metrics to evaluate discovery significance.\n",
    "\n",
    "* Simplified Z0 \n",
    "$$ Z_{0, simple} = s/\\sqrt{b}$$\n",
    "\n",
    "* Asymptotic Z0\n",
    "$ Z_{0, asymptotic} = \\sqrt{2((s+b) \\ \\mathrm{ln} (1+s/b)-s)}$\n",
    "\n",
    "* Bayesian Z0\n",
    "$ p-value = \\int_{n}^{\\infty}\\mathrm{Poisson}(k|b) dk$.\n",
    "$Z_{0, Bayesian} =  \\mathrm{Z score \\ 1-tailed \\ (p-value)} $\n",
    "\n",
    "* Frequentist Z0\n",
    "$ p-value =  \\int_{q_{0,n}}^{\\infty} f(q_0|b) dq_0 $\n",
    "$Z_{0, Frequentist} = \\mathrm{Z score \\ 1-tailed \\ (p-value)} $\n",
    "\n",
    "\n",
    "In this exercise, we will implement each of the metrics and compare consistency."
   ]
  },
  {
   "cell_type": "code",
   "execution_count": 69,
   "id": "e3dbc4fb",
   "metadata": {},
   "outputs": [],
   "source": [
    "import numpy as np\n",
    "import matplotlib.pyplot as plt\n",
    "import iminuit.minimize as minimize\n",
    "from tqdm import tqdm\n",
    "import scipy\n",
    "import math\n",
    "from scipy.stats import poisson\n",
    "from scipy.stats import norm\n",
    "\n",
    "# Define test statistics q_0 for Frequentist approach\n",
    "# 1. We require signal event s > 0 for positive signal yield.\n",
    "#    Therefore, the test statistics for q_0 are 0 if N_obs <= Nb.\n",
    "# 2. Compute two Poisson log likelihoods for:\n",
    "#    a) background only model\n",
    "#    b) signal + background model\n",
    "#    Evaluate -2 log likelihood ratio between a) and b)\n",
    "def q0(N_obs,Nb):\n",
    "    # Write your code here\n",
    "    s = N_obs - Nb\n",
    "\n",
    "    # Ensure the test statistic is 0 if s <= 0.\n",
    "    if (s <= 0):\n",
    "        q0_out = 0\n",
    "    else:\n",
    "        # Use logpmf to prevent loss of precision due to rounding.\n",
    "        L1 = poisson.logpmf(N_obs, Nb, loc=0)\n",
    "        L2 = poisson.logpmf(N_obs, s + Nb, loc=0)\n",
    "\n",
    "        # print(\"L1: %f\" % L1)\n",
    "        # print(\"L2: %f\" % L2)\n",
    "\n",
    "        # Only need to subtract 2 likelihood values since we already took the log.\n",
    "        q0_out = -2 * (L1 - L2)\n",
    "\n",
    "    return q0_out"
   ]
  },
  {
   "cell_type": "markdown",
   "id": "bf377faa",
   "metadata": {},
   "source": [
    "Implement four metrics:"
   ]
  },
  {
   "cell_type": "code",
   "execution_count": 82,
   "id": "23c3758c",
   "metadata": {},
   "outputs": [],
   "source": [
    "def SimplifiedZ0(N_obs, N_b):\n",
    "    # Write your code here\n",
    "\n",
    "    s = N_obs - N_b\n",
    "    Zscore = s / np.sqrt(N_b)\n",
    "\n",
    "    return Zscore\n",
    "\n",
    "def AsymptoticZ0(N_obs, N_b):\n",
    "    # Write your code here\n",
    "\n",
    "    s = N_obs - N_b\n",
    "    Zscore = np.sqrt(2*((s + N_b) * np.log(1 + s / N_b) - s))\n",
    "\n",
    "    return Zscore\n",
    "\n",
    "def BayesianZ0(N_obs, N_b):\n",
    "    # Write your code here\n",
    "\n",
    "    s = N_obs - N_b\n",
    "    pvalue = 1 - poisson.cdf(N_obs, N_b)\n",
    "    Zscore = norm.ppf(1 - pvalue)\n",
    "\n",
    "    return Zscore\n",
    "\n",
    "def FrequentistZ0(N_obs, N_b):\n",
    "    # Write your code here\n",
    "    #set random seed to guarantee reproducibility\n",
    "    np.random.seed(seed=8)\n",
    "\n",
    "    # Step1. Generate f(q_0|B) distribution\n",
    "    \n",
    "    s = N_obs - N_b\n",
    "    # Generate 10K toy experiments based on signal and background hypothesis\n",
    "    # Perform discovery test on each toy experiment to obtain q_0 distribtuion\n",
    "    Ntoys = 10000\n",
    "    q0s = np.zeros(Ntoys)\n",
    "    for i in tqdm(range(Ntoys)):\n",
    "        toy_hist = np.random.poisson(N_b)\n",
    "        q0_out = q0(toy_hist, N_b)\n",
    "        q0s[i] = (q0_out)\n",
    "\n",
    "\n",
    "    # Step2. Calculate q_{0,obs} of the observed event.\n",
    "    q0_obs = q0(N_obs, N_b)\n",
    "\n",
    "    # Step3. Compute p-value, given by the fraction of toy experiments with q_0 greater or equal to q_{0,obs}\n",
    "    pvalue = len(q0s[q0s > q0_obs]) / len(q0s)\n",
    "    Zscore = norm.ppf(1 - pvalue)\n",
    "    \n",
    "    return Zscore"
   ]
  },
  {
   "cell_type": "markdown",
   "id": "2c04ff2e",
   "metadata": {},
   "source": [
    "Now, let's apply our code for numerical calculations.\n",
    "\n",
    "Consider the case that observed events n=5.\n",
    "\n",
    "There are 4 different background models:\n",
    "\n",
    "* case 1: b=0.5\n",
    "* case 2: b=1\n",
    "* case 3: b=3\n",
    "* case 4: b=5\n",
    "* case 5: b=10\n",
    "\n",
    "Calculate the discovery significance for each of the background models, respectively."
   ]
  },
  {
   "cell_type": "code",
   "execution_count": 83,
   "id": "f165924a",
   "metadata": {},
   "outputs": [
    {
     "name": "stdout",
     "output_type": "stream",
     "text": [
      "SimplifiedZ0: 6.36\n",
      "AsymptoticZ0: 3.75\n",
      "BayesianZ0: 4.19\n"
     ]
    },
    {
     "name": "stderr",
     "output_type": "stream",
     "text": [
      "100%|██████████| 10000/10000 [00:00<00:00, 10080.58it/s]\n"
     ]
    },
    {
     "name": "stdout",
     "output_type": "stream",
     "text": [
      "FrequentistZ0: 3.72\n",
      "\n",
      "\n",
      "SimplifiedZ0: 4.00\n",
      "AsymptoticZ0: 2.85\n",
      "BayesianZ0: 3.24\n"
     ]
    },
    {
     "name": "stderr",
     "output_type": "stream",
     "text": [
      "100%|██████████| 10000/10000 [00:00<00:00, 18179.99it/s]\n"
     ]
    },
    {
     "name": "stdout",
     "output_type": "stream",
     "text": [
      "FrequentistZ0: 3.29\n",
      "\n",
      "\n",
      "SimplifiedZ0: 1.15\n",
      "AsymptoticZ0: 1.05\n",
      "BayesianZ0: 1.38\n"
     ]
    },
    {
     "name": "stderr",
     "output_type": "stream",
     "text": [
      "100%|██████████| 10000/10000 [00:00<00:00, 14594.92it/s]\n"
     ]
    },
    {
     "name": "stdout",
     "output_type": "stream",
     "text": [
      "FrequentistZ0: 1.36\n",
      "\n",
      "\n",
      "SimplifiedZ0: 0.00\n",
      "AsymptoticZ0: 0.00\n",
      "BayesianZ0: 0.29\n"
     ]
    },
    {
     "name": "stderr",
     "output_type": "stream",
     "text": [
      "100%|██████████| 10000/10000 [00:00<00:00, 13812.20it/s]\n"
     ]
    },
    {
     "name": "stdout",
     "output_type": "stream",
     "text": [
      "FrequentistZ0: 0.33\n",
      "\n",
      "\n",
      "SimplifiedZ0: -1.58\n",
      "AsymptoticZ0: 1.75\n",
      "BayesianZ0: -1.50\n"
     ]
    },
    {
     "name": "stderr",
     "output_type": "stream",
     "text": [
      "100%|██████████| 10000/10000 [00:00<00:00, 12922.70it/s]"
     ]
    },
    {
     "name": "stdout",
     "output_type": "stream",
     "text": [
      "FrequentistZ0: 0.22\n",
      "\n",
      "\n"
     ]
    },
    {
     "name": "stderr",
     "output_type": "stream",
     "text": [
      "\n"
     ]
    }
   ],
   "source": [
    "# Write your code here\n",
    "N_obs = 5\n",
    "Nb_list = [0.5, 1, 3, 5, 10]\n",
    "for N_b in Nb_list:\n",
    "    # Write your code here\n",
    "    print(\"SimplifiedZ0: %.2f\" % SimplifiedZ0(N_obs, N_b))\n",
    "    print(\"AsymptoticZ0: %.2f\" % AsymptoticZ0(N_obs, N_b))\n",
    "    print(\"BayesianZ0: %.2f\" % BayesianZ0(N_obs, N_b))\n",
    "    print(\"FrequentistZ0: %.2f\" % FrequentistZ0(N_obs, N_b))\n",
    "\n",
    "    # q0_out = q0(N_obs, N_b)\n",
    "    # print(q0_out)\n",
    "    print(\"\\n\")"
   ]
  },
  {
   "cell_type": "markdown",
   "id": "758c2bb2",
   "metadata": {},
   "source": [
    "Describe the consistency between different metrics for each background model case.\n",
    "\n",
    "Write your answers here:\n",
    "\n",
    "\n",
    "As expected, across all metrics, the significance for a given $N_{obs}$ decreases as the background signal $N_b$ increases. Note, however, that the z-scores given by our 4 methods often give fairly different results. In the first result, SimplifiedZ0 gives the greatest z-score, followed by the BayesianZ0, then by AsymptoticZ0, and finally by the frequentist z-score. The order of these z-scores seems to change as the background signal increases, though."
   ]
  }
 ],
 "metadata": {
  "kernelspec": {
   "display_name": "Python 3.8.12 ('base')",
   "language": "python",
   "name": "python3"
  },
  "language_info": {
   "codemirror_mode": {
    "name": "ipython",
    "version": 3
   },
   "file_extension": ".py",
   "mimetype": "text/x-python",
   "name": "python",
   "nbconvert_exporter": "python",
   "pygments_lexer": "ipython3",
   "version": "3.8.15"
  },
  "vscode": {
   "interpreter": {
    "hash": "6f5583cf1d9466b5c27e75c89cc6b383bed5736d6b16c51c8074d8690011a952"
   }
  }
 },
 "nbformat": 4,
 "nbformat_minor": 5
}
