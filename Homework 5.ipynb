{
 "cells": [
  {
   "cell_type": "markdown",
   "id": "adf1ae09",
   "metadata": {},
   "source": [
    "# Homework 5\n",
    "\n",
    "\n",
    "For a simple counting experiment, the expected background event is $b$ and the observed event is $n$. \n",
    "The best estimator for signal event $s$ is:\n",
    "$$s=n-b.$$\n",
    "\n",
    "There are different metrics to evaluate discovery significance.\n",
    "\n",
    "* Simplified Z0 \n",
    "$$ Z_{0, simple} = s/\\sqrt{b}$$\n",
    "\n",
    "* Asymptotic Z0\n",
    "$ Z_{0, asymptotic} = \\sqrt{2((s+b) \\ \\mathrm{ln} (1+s/b)-s)}$\n",
    "\n",
    "* Bayesian Z0\n",
    "$ p-value = \\int_{n}^{\\infty}\\mathrm{Poisson}(k|b) dk$.\n",
    "$Z_{0, Bayesian} =  \\mathrm{Z score \\ 1-tailed \\ (p-value)} $\n",
    "\n",
    "* Frequentist Z0\n",
    "$ p-value =  \\int_{q_{0,n}}^{\\infty} f(q_0|b) dq_0 $\n",
    "$Z_{0, Frequentist} = \\mathrm{Z score \\ 1-tailed \\ (p-value)} $\n",
    "\n",
    "\n",
    "In this exercise, we will implement each of the metrics and compare consistency."
   ]
  },
  {
   "cell_type": "code",
   "execution_count": 13,
   "id": "e3dbc4fb",
   "metadata": {},
   "outputs": [],
   "source": [
    "import numpy as np\n",
    "import matplotlib.pyplot as plt\n",
    "import iminuit.minimize as minimize\n",
    "from tqdm import tqdm\n",
    "import scipy\n",
    "import math\n",
    "from scipy.stats import poisson\n",
    "\n",
    "# Define test statistics q_0 for Frequentist approach\n",
    "# 1. We require signal event s > 0 for positive signal yield.\n",
    "#    Therefore, the test statistics for q_0 are 0 if N_obs <= Nb.\n",
    "# 2. Compute two Poisson log likelihoods for:\n",
    "#    a) background only model\n",
    "#    b) signal + background model\n",
    "#    Evaluate -2 log likelihood ratio between a) and b)\n",
    "# Note: N_obs = n, Nb = b\n",
    "def q0(N_obs,N_b):\n",
    "    # Write your code here\n",
    "    s = N_obs - N_b\n",
    "\n",
    "    # Ensure the test statistic is 0 if s <= 0.\n",
    "    if (s <= 0):\n",
    "        q0_out = 0\n",
    "    else:\n",
    "        # TODO s + Nb here is just N_obs? Doesn't seem right.\n",
    "        L1 = N_obs * np.log(N_b) - N_b - np.log(math.factorial(N_obs))\n",
    "        L2 = N_obs * np.log(s + N_b) - (s + N_b) - np.log(math.factorial(N_obs))\n",
    "        q0_out = -2 * np.log(L1 / L2)\n",
    "\n",
    "    return q0_out"
   ]
  },
  {
   "cell_type": "markdown",
   "id": "bf377faa",
   "metadata": {},
   "source": [
    "Implement four metrics:"
   ]
  },
  {
   "cell_type": "code",
   "execution_count": 14,
   "id": "23c3758c",
   "metadata": {},
   "outputs": [],
   "source": [
    "def SimplifiedZ0(N_obs, N_b):\n",
    "    # Write your code here\n",
    "    s = N_obs - N_b\n",
    "    Zscore = s / np.sqrt(N_b)\n",
    "    return Zscore\n",
    "\n",
    "def AsymptoticZ0(N_obs, N_b):\n",
    "    # Write your code here\n",
    "    s = N_obs - N_b\n",
    "    Zscore = np.sqrt(2*((s + N_b) * np.log(1 + s / N_b) - s))\n",
    "    return Zscore\n",
    "\n",
    "def BayesianZ0(N_obs, N_b):\n",
    "    # Write your code here\n",
    "    s = N_obs - N_b\n",
    "    # Get integral from n to infinity by subtracting integral from 0 to n of Poisson distribution.\n",
    "    Zscore = 1 - poisson.cdf(N_obs, N_b)\n",
    "    return Zscore\n",
    "\n",
    "def FrequentistZ0(N_obs, N_b):\n",
    "    # Write your code here\n",
    "    #set random seed to guarantee reproducibility\n",
    "    np.random.seed(seed=8)\n",
    "\n",
    "    # Step1. Generate f(q_0|B) distribtuion\n",
    "    # Generate toy experiments based on background-only model and compute q_0 for each experiment\n",
    "    # Write your code here\n",
    "    \n",
    "\n",
    "    # Step2. Calcualte q_{0,obs} of the observed event. \n",
    "    \n",
    "\n",
    "    # Step3. Compute p-value. The fraction of toy experiments with q_0 greater or eqal to q_{0,obs}\n",
    "    \n",
    "    \n",
    "    return Zscore\n"
   ]
  },
  {
   "cell_type": "markdown",
   "id": "2c04ff2e",
   "metadata": {},
   "source": [
    "Now, let's apply our code for numerical calculations.\n",
    "\n",
    "Consider the case that observed events n=5.\n",
    "\n",
    "There are 4 different background models:\n",
    "\n",
    "* case 1: b=0.5\n",
    "* case 2: b=1\n",
    "* case 3: b=3\n",
    "* case 4: b=5\n",
    "* case 5: b=10\n",
    "\n",
    "Calculate the discovery significance for each of the background modes, respectively."
   ]
  },
  {
   "cell_type": "code",
   "execution_count": 15,
   "id": "f165924a",
   "metadata": {},
   "outputs": [
    {
     "name": "stdout",
     "output_type": "stream",
     "text": [
      "-3.230727481933789\n",
      "-2.4032804550240305\n",
      "-0.5528516239865958\n",
      "0\n",
      "0\n"
     ]
    }
   ],
   "source": [
    "# Write your code here\n",
    "N_obs = 5\n",
    "Nb_list = [0.5, 1, 3, 5, 10]\n",
    "for N_b in Nb_list:\n",
    "    # Write your code here\n",
    "    q0_out = q0(N_obs, N_b)\n",
    "    print(q0_out)"
   ]
  },
  {
   "cell_type": "markdown",
   "id": "758c2bb2",
   "metadata": {},
   "source": [
    "Describe the consistency between different metrics for each background model case.\n",
    "\n",
    "Write your answers here:\n",
    "\n"
   ]
  }
 ],
 "metadata": {
  "kernelspec": {
   "display_name": "Python 3.8.12 ('base')",
   "language": "python",
   "name": "python3"
  },
  "language_info": {
   "codemirror_mode": {
    "name": "ipython",
    "version": 3
   },
   "file_extension": ".py",
   "mimetype": "text/x-python",
   "name": "python",
   "nbconvert_exporter": "python",
   "pygments_lexer": "ipython3",
   "version": "3.8.15"
  },
  "vscode": {
   "interpreter": {
    "hash": "6f5583cf1d9466b5c27e75c89cc6b383bed5736d6b16c51c8074d8690011a952"
   }
  }
 },
 "nbformat": 4,
 "nbformat_minor": 5
}
