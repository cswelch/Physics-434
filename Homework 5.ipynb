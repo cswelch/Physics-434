{
 "cells": [
  {
   "cell_type": "markdown",
   "id": "adf1ae09",
   "metadata": {},
   "source": [
    "# Homework 5\n",
    "\n",
    "\n",
    "For a simple counting experiment, the expected background event is $b$ and the observed event is $n$. \n",
    "The best estimator for signal event $s$ is:\n",
    "$$s=n-b.$$\n",
    "\n",
    "There are different metrics to evaluate discovery significance.\n",
    "\n",
    "* Simplified Z0 \n",
    "$$ Z_{0, simple} = s/\\sqrt{b}$$\n",
    "\n",
    "* Asympototic Z0\n",
    "$$ Z_{0, asymptotic} = \\sqrt{2((s+b)\\mathrm{ln} (1+s/b)-s)}$$\n",
    "\n",
    "* Bayesian Z0\n",
    "$$ p-value = \\int_{n}^{\\infty}\\mathrm{Poisson}(k|b) dk$$.\n",
    "$$Z_{0, Bayesian} =  \\mathrm{Z score\\ 1-tailed\\ (p-value)} $$\n",
    "\n",
    "* Frequentist Z0\n",
    "$$ p-value =  \\int_{q_{0,n}}^{\\infty} f(q_0|b) dq_0 $$\n",
    "$$Z_{0, Frequentist} = \\mathrm{Z score\\ 1-tailed\\ (p-value)} $$\n",
    "\n",
    "\n",
    "In this exercise, we will implement each of the metric and compare consistency.\n"
   ]
  },
  {
   "cell_type": "code",
   "execution_count": null,
   "id": "e3dbc4fb",
   "metadata": {},
   "outputs": [],
   "source": [
    "import numpy as np\n",
    "import matplotlib.pyplot as plt\n",
    "import iminuit.minimize as minimize\n",
    "from tqdm import tqdm\n",
    "import scipy\n",
    "from scipy.stats import poisson\n",
    "\n",
    "# Define test statistics q_0 for Frequentist approach\n",
    "# 1. We require signal event s >0 for positive signal yield.\n",
    "#    Therefore, the test statistics q_0 is 0 if N_obs <= Nb\n",
    "# 2. Compute two Poisson loglikelihood of \n",
    "#    a) backgorund only model\n",
    "#    b) signal+background model\n",
    "#    Evaluate -2 log likelihood ratio between a) and b)\n",
    "\n",
    "def q0(N_obs,Nb):\n",
    "    #Write your code here\n",
    "    q0_out=\n",
    "    \n",
    "    return q0_out"
   ]
  },
  {
   "cell_type": "markdown",
   "id": "bf377faa",
   "metadata": {},
   "source": [
    "Implement four metrics:"
   ]
  },
  {
   "cell_type": "code",
   "execution_count": null,
   "id": "23c3758c",
   "metadata": {},
   "outputs": [],
   "source": [
    "def SimplifiedZ0(N_obs,N_b):\n",
    "    # Write your code here\n",
    "    \n",
    "    return Zscore\n",
    "\n",
    "def AsymptoticZ0(N_obs,N_b):\n",
    "    # Write your code here\n",
    "    \n",
    "    return Zscore\n",
    "\n",
    "def BayesianZ0(N_obs,N_b):\n",
    "    # Write your code here\n",
    "    \n",
    "    return Zscore\n",
    "\n",
    "def FreqnetistZ0(N_obs,N_b):\n",
    "    # Write your code here\n",
    "    #set random seed to guarantee reproducibility\n",
    "    np.random.seed(seed=8)\n",
    "\n",
    "    # Step1. Generate f(q_0|B) distribtuion\n",
    "    # Generate toy experiments based on background only model and compute q_0 for each experiment\n",
    "    # Write your code here\n",
    "    \n",
    "\n",
    "    # Step2. Calcualte q_{0,obs} of the observed event. \n",
    "    \n",
    "\n",
    "    # Step3. Compute p-value. The fraction of toy experiments with q_0 greater or eqal to q_{0,obs}\n",
    "    \n",
    "    \n",
    "    return Zscore\n"
   ]
  },
  {
   "cell_type": "markdown",
   "id": "2c04ff2e",
   "metadata": {},
   "source": [
    "Now, let's apply our code for numerical calculations.\n",
    "\n",
    "Consider the case that observed events n=5.\n",
    "\n",
    "There are 4 different background models:\n",
    "\n",
    "* case 1: b=0.5\n",
    "* case 2: b=1\n",
    "* case 3: b=3\n",
    "* case 4: b=5\n",
    "* case 5: b=10\n",
    "\n",
    "Calclate discovery significance for each of the background mode, respectively."
   ]
  },
  {
   "cell_type": "code",
   "execution_count": null,
   "id": "f165924a",
   "metadata": {},
   "outputs": [],
   "source": [
    "# Write your code here\n",
    "Nobs=5\n",
    "Nb_list=[0.5,1,3,5,10]\n",
    "for Nb in Nb_list:\n",
    "    # Write your code here"
   ]
  },
  {
   "cell_type": "markdown",
   "id": "758c2bb2",
   "metadata": {},
   "source": [
    "Describe the consistency between different metrics for each background model case.\n",
    "\n",
    "Write your answers here:\n",
    "\n"
   ]
  }
 ],
 "metadata": {
  "kernelspec": {
   "display_name": "Python 3 (ipykernel)",
   "language": "python",
   "name": "python3"
  },
  "language_info": {
   "codemirror_mode": {
    "name": "ipython",
    "version": 3
   },
   "file_extension": ".py",
   "mimetype": "text/x-python",
   "name": "python",
   "nbconvert_exporter": "python",
   "pygments_lexer": "ipython3",
   "version": "3.10.7"
  }
 },
 "nbformat": 4,
 "nbformat_minor": 5
}
