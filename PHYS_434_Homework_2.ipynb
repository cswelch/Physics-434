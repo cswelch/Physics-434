{
 "cells": [
  {
   "cell_type": "code",
   "execution_count": 13,
   "metadata": {},
   "outputs": [],
   "source": [
    "from scipy.stats import norm\n",
    "import numpy as np\n",
    "from matplotlib import pyplot as plt\n",
    "%matplotlib inline"
   ]
  },
  {
   "cell_type": "markdown",
   "metadata": {},
   "source": [
    "# 1) Transformation of variables\n",
    "\n",
    "In order to make the transformation from the rectangular pdf $f(x) = 1$ to $g(u)$, we must use the following formula:\n",
    "\n",
    "$\\begin{align}\n",
    "    g(u) &= f(x(u)) \\ |\\frac{dx}{du}|\n",
    "\\end{align}$\n",
    "\n",
    "Using our expression $u = e^{-x}$, we can get $x$ in terms of $u$: $x = -\\ln(u)$. Then $\\frac{dx}{du} = -\\frac{1}{u}$, so\n",
    "\n",
    "$\\begin{align}\n",
    "    g(u) &= f(x(u)) \\ |\\frac{dx}{du}| \\\\\n",
    "    &= 1 \\cdot |-\\frac{1}{u}| \\\\\n",
    "    &= \\frac{1}{u}\n",
    "\\end{align}$\n",
    "\n",
    "Now, let us plot 3 separate figures for $u(x), \\ f(x),$ and $g(u)$:"
   ]
  },
  {
   "cell_type": "code",
   "execution_count": 24,
   "metadata": {},
   "outputs": [
    {
     "data": {
      "text/plain": [
       "Text(0, 0.5, 'u(x)')"
      ]
     },
     "execution_count": 24,
     "metadata": {},
     "output_type": "execute_result"
    },
    {
     "data": {
      "image/png": "[encoded data removed]",
      "text/plain": [
       "<Figure size 432x288 with 1 Axes>"
      ]
     },
     "metadata": {
      "needs_background": "light"
     },
     "output_type": "display_data"
    }
   ],
   "source": [
    "# Plot of u(x)\n",
    "x = np.linspace(0,1,100)\n",
    "u = np.exp(-x)\n",
    "fig1 = plt.plot(x,u)\n",
    "plt.title(\"PDF of u(x)\")\n",
    "plt.xlabel(\"x\")\n",
    "plt.ylabel(\"u(x)\")"
   ]
  },
  {
   "cell_type": "code",
   "execution_count": 25,
   "metadata": {},
   "outputs": [
    {
     "data": {
      "text/plain": [
       "Text(0, 0.5, 'f(x)')"
      ]
     },
     "execution_count": 25,
     "metadata": {},
     "output_type": "execute_result"
    },
    {
     "data": {
      "image/png": "[encoded data removed]",
      "text/plain": [
       "<Figure size 432x288 with 1 Axes>"
      ]
     },
     "metadata": {
      "needs_background": "light"
     },
     "output_type": "display_data"
    }
   ],
   "source": [
    "# Plot of f(x)\n",
    "x = np.linspace(0,1,100)\n",
    "f = np.ones(100)\n",
    "fig2 = plt.plot(x,f)\n",
    "plt.title(\"PDF of f(x)\")\n",
    "plt.xlabel(\"x\")\n",
    "plt.ylabel(\"f(x)\")"
   ]
  },
  {
   "cell_type": "code",
   "execution_count": 27,
   "metadata": {},
   "outputs": [
    {
     "name": "stderr",
     "output_type": "stream",
     "text": [
      "<ipython-input-27-f6d62d585fed>:4: RuntimeWarning: divide by zero encountered in true_divide\n",
      "  g = 1/u\n"
     ]
    },
    {
     "data": {
      "text/plain": [
       "Text(0, 0.5, 'g(u)')"
      ]
     },
     "execution_count": 27,
     "metadata": {},
     "output_type": "execute_result"
    },
    {
     "data": {
      "image/png": "[encoded data removed]",
      "text/plain": [
       "<Figure size 432x288 with 1 Axes>"
      ]
     },
     "metadata": {
      "needs_background": "light"
     },
     "output_type": "display_data"
    }
   ],
   "source": [
    "# Plot of g(u)\n",
    "# TODO Seems wrong...shouldn't be going off to infinity @ u=0.\n",
    "u = np.linspace(0,1,100)\n",
    "g = 1/u\n",
    "fig3 = plt.plot(x,g)\n",
    "plt.title(\"PDF of g(u)\")\n",
    "plt.xlabel(\"u\")\n",
    "plt.ylabel(\"g(u)\")"
   ]
  },
  {
   "cell_type": "markdown",
   "metadata": {},
   "source": [
    "# 2) Rolling two 6-sided dice\n",
    "\n",
    "a) We need to roll 1s twice in a row. The probability of rolling a 1 is just $\\frac{1}{6}$, and since they are independent events, we can just multiply the two probabilities to get our answer, $(\\frac{1}{6})^2$.\n",
    "\n",
    "b) There are $6 \\cdot 6 = 36$ total possible outcomes. In order to get a sum of 5, there are 4 outcomes with equal probability: $1+4, \\ 2+3, \\ 3+2, \\ $ and $\\ 4+1$. Thus, there is a $\\frac{4}{36} = \\frac{1}{9}$ probability of this sum being achieved.\n",
    "\n",
    "c) We roll a six-sided die 5 times for a total of $6^5$ outcomes. Rather than looking at how many outcomes yield at least one pair of snake eyes, we can look at the complement—the number\n",
    "of outcomes where no snake eyes occur. For no snake eyes to be present, we have two possible cases: 1) no 1s or 2) a single 1. For case 1), there are $5^5$ ways this can happen, and for case\n",
    "2), there are $\\binom{5}{1} \\cdot 5^4 = 5^5$ ways for this to happen, leading to a total of $2 \\cdot 5^5$ outcomes. Taking the complement, our desired probability is $1 - \\frac{2 \\cdot 5^5}{6^6}$."
   ]
  },
  {
   "cell_type": "code",
   "execution_count": 9,
   "metadata": {},
   "outputs": [
    {
     "name": "stdout",
     "output_type": "stream",
     "text": [
      "Probability of rolling snake eyes:  0.027777777777777776\n",
      "Probability of rolling a sum of 5 after two rolls:  0.1111111111111111\n",
      "Probability of at least one pair of snake eyes:  0.8660408093278463\n"
     ]
    }
   ],
   "source": [
    "# Part a)\n",
    "p_snakes = (1/6)**2\n",
    "print(\"Probability of rolling snake eyes: \", p_snakes)\n",
    "\n",
    "# Part b)\n",
    "p_sum_5 = 4*(1/6)**2\n",
    "print(\"Probability of rolling a sum of 5 after two rolls: \", p_sum_5)\n",
    "\n",
    "# Part c)\n",
    "# TODO ??? Is the probability larger than rolling fives?\n",
    "p_GEQ_one_snake = 1 - (2*5**5)/(6**6)\n",
    "print(\"Probability of at least one pair of snake eyes: \", p_GEQ_one_snake)"
   ]
  },
  {
   "cell_type": "markdown",
   "metadata": {},
   "source": [
    "# 3) Compare probability distribution functions"
   ]
  },
  {
   "cell_type": "code",
   "execution_count": null,
   "metadata": {},
   "outputs": [],
   "source": [
    "\n"
   ]
  }
 ],
 "metadata": {
  "kernelspec": {
   "display_name": "Python 3.8.12 ('base')",
   "language": "python",
   "name": "python3"
  },
  "language_info": {
   "codemirror_mode": {
    "name": "ipython",
    "version": 3
   },
   "file_extension": ".py",
   "mimetype": "text/x-python",
   "name": "python",
   "nbconvert_exporter": "python",
   "pygments_lexer": "ipython3",
   "version": "3.8.12"
  },
  "orig_nbformat": 4,
  "vscode": {
   "interpreter": {
    "hash": "6f5583cf1d9466b5c27e75c89cc6b383bed5736d6b16c51c8074d8690011a952"
   }
  }
 },
 "nbformat": 4,
 "nbformat_minor": 2
}
