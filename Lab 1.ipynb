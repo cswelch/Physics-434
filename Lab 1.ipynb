{
 "cells": [
  {
   "cell_type": "code",
   "execution_count": 8,
   "metadata": {},
   "outputs": [],
   "source": [
    "import pandas as pd\n",
    "from matplotlib import pyplot as plt\n",
    "%matplotlib inline"
   ]
  },
  {
   "cell_type": "code",
   "execution_count": 9,
   "metadata": {},
   "outputs": [
    {
     "data": {
      "text/html": [
       "<div>\n",
       "<style scoped>\n",
       "    .dataframe tbody tr th:only-of-type {\n",
       "        vertical-align: middle;\n",
       "    }\n",
       "\n",
       "    .dataframe tbody tr th {\n",
       "        vertical-align: top;\n",
       "    }\n",
       "\n",
       "    .dataframe thead th {\n",
       "        text-align: right;\n",
       "    }\n",
       "</style>\n",
       "<table border=\"1\" class=\"dataframe\">\n",
       "  <thead>\n",
       "    <tr style=\"text-align: right;\">\n",
       "      <th></th>\n",
       "      <th>Mean</th>\n",
       "      <th>STD</th>\n",
       "      <th>Kurtosis</th>\n",
       "      <th>Skewness</th>\n",
       "      <th>4</th>\n",
       "      <th>5</th>\n",
       "      <th>6</th>\n",
       "      <th>7</th>\n",
       "      <th>IsReal</th>\n",
       "    </tr>\n",
       "  </thead>\n",
       "  <tbody>\n",
       "    <tr>\n",
       "      <th>0</th>\n",
       "      <td>140.562500</td>\n",
       "      <td>55.683782</td>\n",
       "      <td>-0.234571</td>\n",
       "      <td>-0.699648</td>\n",
       "      <td>3.199833</td>\n",
       "      <td>19.110426</td>\n",
       "      <td>7.975532</td>\n",
       "      <td>74.242225</td>\n",
       "      <td>0</td>\n",
       "    </tr>\n",
       "    <tr>\n",
       "      <th>1</th>\n",
       "      <td>102.507812</td>\n",
       "      <td>58.882430</td>\n",
       "      <td>0.465318</td>\n",
       "      <td>-0.515088</td>\n",
       "      <td>1.677258</td>\n",
       "      <td>14.860146</td>\n",
       "      <td>10.576487</td>\n",
       "      <td>127.393580</td>\n",
       "      <td>0</td>\n",
       "    </tr>\n",
       "    <tr>\n",
       "      <th>2</th>\n",
       "      <td>103.015625</td>\n",
       "      <td>39.341649</td>\n",
       "      <td>0.323328</td>\n",
       "      <td>1.051164</td>\n",
       "      <td>3.121237</td>\n",
       "      <td>21.744669</td>\n",
       "      <td>7.735822</td>\n",
       "      <td>63.171909</td>\n",
       "      <td>0</td>\n",
       "    </tr>\n",
       "    <tr>\n",
       "      <th>3</th>\n",
       "      <td>136.750000</td>\n",
       "      <td>57.178449</td>\n",
       "      <td>-0.068415</td>\n",
       "      <td>-0.636238</td>\n",
       "      <td>3.642977</td>\n",
       "      <td>20.959280</td>\n",
       "      <td>6.896499</td>\n",
       "      <td>53.593661</td>\n",
       "      <td>0</td>\n",
       "    </tr>\n",
       "    <tr>\n",
       "      <th>4</th>\n",
       "      <td>88.726562</td>\n",
       "      <td>40.672225</td>\n",
       "      <td>0.600866</td>\n",
       "      <td>1.123492</td>\n",
       "      <td>1.178930</td>\n",
       "      <td>11.468720</td>\n",
       "      <td>14.269573</td>\n",
       "      <td>252.567306</td>\n",
       "      <td>0</td>\n",
       "    </tr>\n",
       "    <tr>\n",
       "      <th>...</th>\n",
       "      <td>...</td>\n",
       "      <td>...</td>\n",
       "      <td>...</td>\n",
       "      <td>...</td>\n",
       "      <td>...</td>\n",
       "      <td>...</td>\n",
       "      <td>...</td>\n",
       "      <td>...</td>\n",
       "      <td>...</td>\n",
       "    </tr>\n",
       "    <tr>\n",
       "      <th>17893</th>\n",
       "      <td>136.429688</td>\n",
       "      <td>59.847421</td>\n",
       "      <td>-0.187846</td>\n",
       "      <td>-0.738123</td>\n",
       "      <td>1.296823</td>\n",
       "      <td>12.166062</td>\n",
       "      <td>15.450260</td>\n",
       "      <td>285.931022</td>\n",
       "      <td>0</td>\n",
       "    </tr>\n",
       "    <tr>\n",
       "      <th>17894</th>\n",
       "      <td>122.554688</td>\n",
       "      <td>49.485605</td>\n",
       "      <td>0.127978</td>\n",
       "      <td>0.323061</td>\n",
       "      <td>16.409699</td>\n",
       "      <td>44.626893</td>\n",
       "      <td>2.945244</td>\n",
       "      <td>8.297092</td>\n",
       "      <td>0</td>\n",
       "    </tr>\n",
       "    <tr>\n",
       "      <th>17895</th>\n",
       "      <td>119.335938</td>\n",
       "      <td>59.935939</td>\n",
       "      <td>0.159363</td>\n",
       "      <td>-0.743025</td>\n",
       "      <td>21.430602</td>\n",
       "      <td>58.872000</td>\n",
       "      <td>2.499517</td>\n",
       "      <td>4.595173</td>\n",
       "      <td>0</td>\n",
       "    </tr>\n",
       "    <tr>\n",
       "      <th>17896</th>\n",
       "      <td>114.507812</td>\n",
       "      <td>53.902400</td>\n",
       "      <td>0.201161</td>\n",
       "      <td>-0.024789</td>\n",
       "      <td>1.946488</td>\n",
       "      <td>13.381731</td>\n",
       "      <td>10.007967</td>\n",
       "      <td>134.238910</td>\n",
       "      <td>0</td>\n",
       "    </tr>\n",
       "    <tr>\n",
       "      <th>17897</th>\n",
       "      <td>57.062500</td>\n",
       "      <td>85.797340</td>\n",
       "      <td>1.406391</td>\n",
       "      <td>0.089520</td>\n",
       "      <td>188.306020</td>\n",
       "      <td>64.712562</td>\n",
       "      <td>-1.597527</td>\n",
       "      <td>1.429475</td>\n",
       "      <td>0</td>\n",
       "    </tr>\n",
       "  </tbody>\n",
       "</table>\n",
       "<p>17898 rows × 9 columns</p>\n",
       "</div>"
      ],
      "text/plain": [
       "             Mean        STD  Kurtosis  Skewness           4          5  \\\n",
       "0      140.562500  55.683782 -0.234571 -0.699648    3.199833  19.110426   \n",
       "1      102.507812  58.882430  0.465318 -0.515088    1.677258  14.860146   \n",
       "2      103.015625  39.341649  0.323328  1.051164    3.121237  21.744669   \n",
       "3      136.750000  57.178449 -0.068415 -0.636238    3.642977  20.959280   \n",
       "4       88.726562  40.672225  0.600866  1.123492    1.178930  11.468720   \n",
       "...           ...        ...       ...       ...         ...        ...   \n",
       "17893  136.429688  59.847421 -0.187846 -0.738123    1.296823  12.166062   \n",
       "17894  122.554688  49.485605  0.127978  0.323061   16.409699  44.626893   \n",
       "17895  119.335938  59.935939  0.159363 -0.743025   21.430602  58.872000   \n",
       "17896  114.507812  53.902400  0.201161 -0.024789    1.946488  13.381731   \n",
       "17897   57.062500  85.797340  1.406391  0.089520  188.306020  64.712562   \n",
       "\n",
       "               6           7  IsReal  \n",
       "0       7.975532   74.242225       0  \n",
       "1      10.576487  127.393580       0  \n",
       "2       7.735822   63.171909       0  \n",
       "3       6.896499   53.593661       0  \n",
       "4      14.269573  252.567306       0  \n",
       "...          ...         ...     ...  \n",
       "17893  15.450260  285.931022       0  \n",
       "17894   2.945244    8.297092       0  \n",
       "17895   2.499517    4.595173       0  \n",
       "17896  10.007967  134.238910       0  \n",
       "17897  -1.597527    1.429475       0  \n",
       "\n",
       "[17898 rows x 9 columns]"
      ]
     },
     "metadata": {},
     "output_type": "display_data"
    }
   ],
   "source": [
    "dir =  \"HTRU_2.csv\"\n",
    "df = pd.read_csv(dir, header=None)\n",
    "df.rename(columns = {0:\"Mean\", 1:\"STD\", 2:\"Kurtosis\", 3:\"Skewness\", 8:\"IsReal\"}, inplace=True)\n",
    "display(df)"
   ]
  },
  {
   "cell_type": "code",
   "execution_count": 12,
   "metadata": {},
   "outputs": [],
   "source": [
    "#Save and name the subsets of the data that contain background noise (noise_data) and actual pulsar detections (real_data).\n",
    "noise_data = df.loc[df[\"IsReal\"] == 0]\n",
    "real_data = df.loc[df[\"IsReal\"] == 1]"
   ]
  },
  {
   "cell_type": "code",
   "execution_count": 175,
   "metadata": {},
   "outputs": [
    {
     "data": {
      "text/plain": [
       "Text(0, 0.5, 'Density')"
      ]
     },
     "execution_count": 175,
     "metadata": {},
     "output_type": "execute_result"
    },
    {
     "data": {
      "image/png": "[encoded data removed]",
      "text/plain": [
       "<Figure size 432x288 with 1 Axes>"
      ]
     },
     "metadata": {
      "needs_background": "light"
     },
     "output_type": "display_data"
    }
   ],
   "source": [
    "plt.hist(noise_data[\"Mean\"], density=True, bins=40, alpha=0.7, label=\"Noise: Mean, STD = \" + str(round(noise_data[\"Mean\"].mean(), 0)) + \" +/- \" + str(round(noise_data[\"Mean\"].std(), 0)));\n",
    "plt.hist(real_data[\"Mean\"], density=True, bins=40, alpha=0.7, label=\"Real: Mean, STD = \" + str(round(real_data[\"Mean\"].mean(), 0)) + \" +/- \" + str(round(real_data[\"Mean\"].std(), 0)));\n",
    "plt.title(\"Mean of the Integrated Profile\")\n",
    "plt.legend()\n",
    "plt.xlabel(\"Standard Deviation\")\n",
    "plt.ylabel(\"Density\")"
   ]
  },
  {
   "cell_type": "code",
   "execution_count": 171,
   "metadata": {},
   "outputs": [
    {
     "data": {
      "text/plain": [
       "Text(0, 0.5, 'Density')"
      ]
     },
     "execution_count": 171,
     "metadata": {},
     "output_type": "execute_result"
    },
    {
     "data": {
      "image/png": "[encoded data removed]",
      "text/plain": [
       "<Figure size 432x288 with 1 Axes>"
      ]
     },
     "metadata": {
      "needs_background": "light"
     },
     "output_type": "display_data"
    }
   ],
   "source": [
    "plt.hist(noise_data[\"STD\"], density=True, bins=40, alpha=0.7, color=\"red\", label=\"Noise: Mean, STD = \" + str(round(noise_data[\"STD\"].mean(), 1)) + \" +/- \" + str(round(noise_data[\"STD\"].std(), 1)));\n",
    "plt.hist(real_data[\"STD\"], density=True, bins=40, alpha=0.7, color=\"green\", label=\"Real: Mean, STD = \" + str(round(real_data[\"STD\"].mean(), 1)) + \" +/- \" + str(round(real_data[\"STD\"].std(), 1)));\n",
    "plt.title(\"Standard Deviation of the Integrated Profile\")\n",
    "plt.legend()\n",
    "plt.xlabel(\"Standard Deviation\")\n",
    "plt.ylabel(\"Density\")"
   ]
  },
  {
   "cell_type": "code",
   "execution_count": 173,
   "metadata": {},
   "outputs": [
    {
     "data": {
      "text/plain": [
       "Text(0, 0.5, 'Density')"
      ]
     },
     "execution_count": 173,
     "metadata": {},
     "output_type": "execute_result"
    },
    {
     "data": {
      "image/png": "[encoded data removed]",
      "text/plain": [
       "<Figure size 432x288 with 1 Axes>"
      ]
     },
     "metadata": {
      "needs_background": "light"
     },
     "output_type": "display_data"
    }
   ],
   "source": [
    "plt.hist(noise_data[\"Kurtosis\"], density=True, bins=40, alpha=0.7, color=\"cyan\", label=\"Noise: Mean, STD = \" + str(round(noise_data[\"Kurtosis\"].mean(), 2)) + \" +/- \" + str(round(noise_data[\"Kurtosis\"].std(), 2)));\n",
    "plt.hist(real_data[\"Kurtosis\"], density=True, bins=40, alpha=0.7, color=\"purple\", label=\"Real: Mean, STD = \" + str(round(real_data[\"Kurtosis\"].mean(), 1)) + \" +/- \" + str(round(real_data[\"Kurtosis\"].std(), 1)));\n",
    "plt.title(\"Excess Kurtosis of the Integrated Profile\")\n",
    "plt.legend()\n",
    "plt.xlabel(\"Standard Deviation\")\n",
    "plt.ylabel(\"Density\")"
   ]
  },
  {
   "cell_type": "code",
   "execution_count": 174,
   "metadata": {},
   "outputs": [
    {
     "data": {
      "text/plain": [
       "Text(0, 0.5, 'Density')"
      ]
     },
     "execution_count": 174,
     "metadata": {},
     "output_type": "execute_result"
    },
    {
     "data": {
      "image/png": "[encoded data removed]",
      "text/plain": [
       "<Figure size 432x288 with 1 Axes>"
      ]
     },
     "metadata": {
      "needs_background": "light"
     },
     "output_type": "display_data"
    }
   ],
   "source": [
    "plt.hist(noise_data[\"Skewness\"], density=True, bins=40, alpha=0.7, color=\"gray\", label=\"Noise: Mean, STD = \" + str(round(noise_data[\"Skewness\"].mean(), 1)) + \" +/- \" + str(round(noise_data[\"Skewness\"].std(), 1)));\n",
    "plt.hist(real_data[\"Skewness\"], density=True, bins=40, alpha=0.7, color=\"magenta\", label=\"Real: Mean, STD = \" + str(round(real_data[\"Skewness\"].mean(), 0)) + \" +/- \" + str(round(real_data[\"Skewness\"].std(), 0)));\n",
    "plt.title(\"Skewness of the Integrated Profile\")\n",
    "plt.legend()\n",
    "plt.xlabel(\"Mean\")\n",
    "plt.ylabel(\"Density\")"
   ]
  },
  {
   "cell_type": "code",
   "execution_count": 194,
   "metadata": {},
   "outputs": [
    {
     "name": "stdout",
     "output_type": "stream",
     "text": [
      "pA:  0.09157447759526204\n",
      "pB:  0.08626662196893507\n",
      "pC:  0.06900212314225053\n"
     ]
    }
   ],
   "source": [
    "#Calculate the probability that an observation is a pulsar candidate, P(A). In other words, if an observation from the HTRU dataset\n",
    "#is chosen at random, what is the probability that it is a real pulsar?\n",
    "pA = len(real_data) / (len(real_data) + len(noise_data))\n",
    "print(\"pA: \", pA)\n",
    "\n",
    "#Calculate the probability than an observation with Mean of the integrated profile < 80, P(B).\n",
    "mean = df[\"Mean\"]\n",
    "pB =  len(mean[mean < 80]) / len(df)\n",
    "print(\"pB: \", pB)\n",
    "\n",
    "#Calculate the probability that an observation satisfies both conditions, P(A ⋂ B).\n",
    "pC =  len(df[(mean < 80) & (df[\"IsReal\"] == 1)]) / len(df)\n",
    "print(\"pC: \", pC)"
   ]
  },
  {
   "cell_type": "code",
   "execution_count": 193,
   "metadata": {},
   "outputs": [
    {
     "name": "stdout",
     "output_type": "stream",
     "text": [
      "pD:  0.7998704663212436\n",
      "pE:  0.7535082367297132\n"
     ]
    }
   ],
   "source": [
    "#Calculate the first conditional probability - P(real | mean < 80).\n",
    "pD = pC / pB\n",
    "print(\"pD: \", pD)\n",
    "\n",
    "#Calculate the second conditional probability - P(mean < 80 | real).\n",
    "pE = pC / pA\n",
    "print(\"pE: \", pE)"
   ]
  },
  {
   "cell_type": "code",
   "execution_count": null,
   "metadata": {},
   "outputs": [],
   "source": []
  }
 ],
 "metadata": {
  "kernelspec": {
   "display_name": "Python 3.8.12 ('base')",
   "language": "python",
   "name": "python3"
  },
  "language_info": {
   "codemirror_mode": {
    "name": "ipython",
    "version": 3
   },
   "file_extension": ".py",
   "mimetype": "text/x-python",
   "name": "python",
   "nbconvert_exporter": "python",
   "pygments_lexer": "ipython3",
   "version": "3.8.12"
  },
  "orig_nbformat": 4,
  "vscode": {
   "interpreter": {
    "hash": "6f5583cf1d9466b5c27e75c89cc6b383bed5736d6b16c51c8074d8690011a952"
   }
  }
 },
 "nbformat": 4,
 "nbformat_minor": 2
}
