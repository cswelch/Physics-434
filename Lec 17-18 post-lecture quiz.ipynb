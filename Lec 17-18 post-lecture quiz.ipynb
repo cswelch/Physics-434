{
 "cells": [
  {
   "cell_type": "markdown",
   "id": "582562dd",
   "metadata": {},
   "source": [
    "# Lecutre 17 and 18 Post-lecture quiz\n",
    "\n",
    "In this post-lecture quiz, we will practice lecture materials for lecture 17 and 18.\n",
    "\n",
    "* Lecture 17: Expected sensitivity \n",
    "\n",
    "There are 2 tasks in this section.\n",
    "We will use Likelihood ratio method for Discovery Test, and Upper limit calculation.\n",
    "First, we will evaluate the Expected discovery sensitivity using Frequentist approach.\n",
    "Second, we will perform statistical tests on the same pseudo-data in two approaches: Bayesian vs Frequentist.\n",
    "\n",
    "* Lecture 18: Machine Learning: un-supervised\n",
    "\n",
    "There are 3 tasks in this section: We will practice K-Means clustering, Principle Component Analysis and t-SNE.\n",
    "\n",
    "To work on Lecture 18 quiz, you have to install following tools\n",
    "* sklearn: https://scikit-learn.org/stable/install.html\n",
    "* PyTorch: https://www.geeksforgeeks.org/how-to-install-pytorch-on-macos/\n",
    "    * torch\n",
    "    * torchvision\n",
    "    * torchaudio"
   ]
  },
  {
   "cell_type": "markdown",
   "id": "d4bfe712",
   "metadata": {},
   "source": [
    "## Lecture 17 Expected sensitivity\n",
    "\n",
    "Let's start with preparing pseudo-data composed of a Gaussian signal and exponential background."
   ]
  },
  {
   "cell_type": "code",
   "execution_count": 1,
   "id": "66eb9f46",
   "metadata": {},
   "outputs": [],
   "source": [
    "# definition of PDF\n",
    "import matplotlib.pyplot as plt\n",
    "import iminuit.minimize as minimize\n",
    "from tqdm import tqdm\n",
    "\n",
    "import numpy as np\n",
    "import scipy\n",
    "from scipy.stats import norm\n",
    "from scipy.stats import expon\n",
    "from scipy.stats import poisson\n",
    "# First we have to define PDF models\n",
    "def norm_S(x,MH,Width):\n",
    "    return norm.pdf(x,MH,Width)\n",
    "\n",
    "def norm_B(x,alpha):\n",
    "    ainv=1./alpha\n",
    "    r = expon.pdf(ainv*(x-xmin))\n",
    "    c = r*ainv/(1.-expon.pdf(ainv*(xmax-xmin)))\n",
    "    #print(x,alpha,r,c)\n",
    "    return c "
   ]
  },
  {
   "cell_type": "code",
   "execution_count": 2,
   "id": "2baa61e6",
   "metadata": {},
   "outputs": [
    {
     "data": {
      "image/png": "[encoded data removed]",
      "text/plain": [
       "<Figure size 640x480 with 1 Axes>"
      ]
     },
     "metadata": {},
     "output_type": "display_data"
    }
   ],
   "source": [
    "# Truth parameter for this exercise\n",
    "# A resonance with mass peak 125.5 GeV and width 2GeV\n",
    "# The decay constant of the exponential background is 20\n",
    "MH_truth = 125.5\n",
    "Width_truth=2\n",
    "Alpha_truth=20\n",
    "\n",
    "# The signal yield is 20 and the background yield is 2000\n",
    "Ns_truth = 20\n",
    "Nb_truth = 2000\n",
    "\n",
    "#We will study the mass shape between 100GeV and 180GeV in 40 bins\n",
    "xmin = 100\n",
    "xmax = 180\n",
    "nbins= 40\n",
    "bins = np.linspace(xmin, xmax, nbins+1)\n",
    "binCenter = 1/2 *(bins[1:] + bins[:-1])\n",
    "binWidth = bins[1]-bins[0]\n",
    "Ns_predict = Ns_truth*binWidth*norm_S(binCenter,MH_truth,Width_truth)\n",
    "Nb_predict = Nb_truth*binWidth*norm_B(binCenter,Alpha_truth)\n",
    "Ns_and_Nb  = Ns_predict+Nb_predict\n",
    "\n",
    "#set random seed to guarantee reproducibility\n",
    "np.random.seed(seed=6)\n",
    "\n",
    "Ndata = np.random.poisson(Ns_and_Nb)\n",
    "\n",
    "fig =  plt.figure()\n",
    "plt.cla()\n",
    "plt.errorbar(binCenter, Ndata, Ndata ** 0.5, fmt=\"ok\",label='data')\n",
    "#plt.bar(binCenter, Ns_and_Nb, color='orange', label='s+b')\n",
    "#plt.bar(binCenter, Nb_predict, color='b', label='b only')\n",
    "plt.xlabel(\"$m_{\\gamma\\gamma}$ GeV\")\n",
    "plt.ylabel(\"# Events/%.1g GeV\"%binWidth)\n",
    "plt.legend()\n",
    "plt.show()"
   ]
  },
  {
   "cell_type": "markdown",
   "id": "a2fa7dbd",
   "metadata": {},
   "source": [
    "# Likelihood definition\n",
    "\n",
    "\n",
    "The likelihood is a joint product of Poisson probability from each bin\n",
    "\n",
    "$L(\\mu|x)=\\prod_i^{M}\\frac{ (\\mu S_i+ \\theta B_i)^{n_i}}{n!} e^{-(\\mu S_i+ \\theta B_i)}$,\n",
    "\n",
    "where $\\mu$ is the signal strength and $\\theta$ is the background strength.\n",
    "\n",
    "The binned log likelihood can be approximated as:\n",
    "\n",
    "$-2 \\mathrm{ln} L(\\mu|x) = -2 \\sum_i^{M} [ {n_i} \\mathrm{ln} (\\mu S_i+\\theta B_i) -(\\mu S_i+ \\theta B_i) ]$\n",
    "\n",
    "\n"
   ]
  },
  {
   "cell_type": "code",
   "execution_count": 3,
   "id": "34a42ed3",
   "metadata": {},
   "outputs": [],
   "source": [
    "def neg_binned_logL(pars,N_observe,Ns,Nb):\n",
    "    mu=pars[0]\n",
    "    bkg=pars[1]\n",
    "    N_predict  = mu*Ns+bkg*Nb\n",
    "\n",
    "    output= -2*np.sum( [ n_obs*np.log(n_predict) - n_predict for n_obs, n_predict in zip(N_observe, N_predict) ] )\n",
    "    return output\n"
   ]
  },
  {
   "cell_type": "markdown",
   "id": "cdd54aef",
   "metadata": {},
   "source": [
    "The test statistics for discovery test is defined as:\n",
    "\n",
    "$ q_0 = \\frac{L(\\mu=0, \\hat{\\hat{\\theta}})}{L(\\hat{\\mu},\\hat{\\theta})}$,\n",
    "where $\\hat{\\mu}$ and $\\hat{\\theta}$ are the best fit values of signal strength and background strength, respectively.\n",
    "$\\hat{\\hat{\\theta}}$ is the best fit of background strength at $\\mu=0$ (background-only model).\n"
   ]
  },
  {
   "cell_type": "code",
   "execution_count": 5,
   "id": "49cd2aa7",
   "metadata": {},
   "outputs": [],
   "source": [
    "#\n",
    "# defin q_0 test statistics\n",
    "# It performs two fits:\n",
    "# - first fit with background-only model \n",
    "# - second fit with float mu and theta\n",
    "#\n",
    "# This function returns three outputs:\n",
    "# - q_0\n",
    "# - first fit output\n",
    "# - second fit output\n",
    "#\n",
    "def q0(N_data,Ns,Nb):\n",
    "    #fix mu=0\n",
    "    bkg_init=np.sum(N_data)/np.sum(Nb)\n",
    "    bkg_max=2*np.sum(N_data)/np.sum(Nb)\n",
    "    \n",
    "    x0=[0,bkg_init]\n",
    "    bounds=[[0,0],[0,bkg_max]]\n",
    "    outfit0 = minimize(fun=neg_binned_logL,x0=x0,args=[N_data, Ns, Nb],bounds=bounds)\n",
    "\n",
    "    #float mu\n",
    "    mu_init=abs(np.sum(N_data-Nb))/np.sum(Ns)\n",
    "    mu_max=2*np.sum(N_data)/np.sum(Ns)\n",
    "    \n",
    "    x0=[mu_init,bkg_init]\n",
    "    bounds=[[0,mu_max],[0,bkg_max]]\n",
    "    outfit1 = minimize(fun=neg_binned_logL,x0=x0,args=[N_data, Ns, Nb],bounds=bounds)\n",
    "     \n",
    "    q0_test=0\n",
    "    if(outfit1.x[0] > 0):\n",
    "        num=neg_binned_logL(outfit0.x,N_data, Ns, Nb)\n",
    "        den=neg_binned_logL(outfit1.x,N_data, Ns, Nb)\n",
    "        q0_test=num-den\n",
    "    return [q0_test, outfit0.x, outfit1.x]\n"
   ]
  },
  {
   "cell_type": "markdown",
   "id": "40e5115e",
   "metadata": {},
   "source": [
    "The test statistics for upper limit is defined as:\n",
    "\n",
    "$ q_{\\mu} = \\frac{L(\\mu, \\hat{\\hat{\\theta}})}{L(\\hat{\\mu},\\hat{\\theta})}$,\n",
    "where $\\hat{\\mu}$ and $\\hat{\\theta}$ are the best fit values of signal strength and background strength, respectively.\n",
    "$\\hat{\\hat{\\theta}}$ is the best fit of background strength at $\\mu$ (alternative hypothesis with $\\mu$ given)."
   ]
  },
  {
   "cell_type": "code",
   "execution_count": 7,
   "id": "981fbc7d",
   "metadata": {},
   "outputs": [],
   "source": [
    "# define q_mu test statistics\n",
    "# It performs two fits:\n",
    "# - first fit fixed mu \n",
    "# - second fit float mu and theta\n",
    "#\n",
    "# This function returns three output\n",
    "# - q_mu\n",
    "# - first fit output\n",
    "# - second fit output\n",
    "#\n",
    "def qmu(mu,N_data,Ns,Nb):\n",
    "\n",
    "    #fix mu\n",
    "    bkg_init=np.sum(N_data)/np.sum(Nb)\n",
    "    bkg_max=2*np.sum(N_data)/np.sum(Nb)\n",
    "    \n",
    "    x0=[mu,bkg_init]\n",
    "    bounds=[[mu,mu],[0,bkg_max]]\n",
    "    outfit0 = minimize(fun=neg_binned_logL,x0=x0,args=[N_data, Ns, Nb],bounds=bounds)\n",
    "\n",
    "    #float mu\n",
    "    mu_init=abs(np.sum(N_data-Nb))/np.sum(Ns)\n",
    "    mu_max=2*np.sum(N_data)/np.sum(Ns)\n",
    "    \n",
    "    x0=[mu_init,bkg_init]\n",
    "    bounds=[[0,mu_max],[0,bkg_max]]\n",
    "    outfit1 = minimize(fun=neg_binned_logL,x0=x0,args=[N_data, Ns, Nb],bounds=bounds)\n",
    "    \n",
    "    #print(outfit0)\n",
    "    #print(outfit1)\n",
    "    # qmu_test is only none-zero when second fit signal strength \n",
    "    # is less than tested signal strength\n",
    "    qmu_test=0\n",
    "    if(outfit1.x[0] < mu):\n",
    "        num=neg_binned_logL(outfit0.x,N_data, Ns, Nb)\n",
    "        den=neg_binned_logL(outfit1.x,N_data, Ns, Nb)\n",
    "        qmu_test=num-den\n",
    "    return [qmu_test, outfit0.x, outfit1.x]"
   ]
  },
  {
   "cell_type": "markdown",
   "id": "c7d346f0",
   "metadata": {},
   "source": [
    "## Part 1 Calculate expected discovery significance (Frequentist approach)\n",
    "\n",
    "Step 1. Generate signal+background toy experiments with $\\mu=1$ to obtain median of the $q_{0,toy}$ if signal exists.\n",
    "\n",
    "Step 2. Generate background-only toy experiments with $\\mu=0$ to calculate p-value. p-value is fraction of $q_0$ under background-only model with the value greater or equal to the median $q_{0,toy}$. "
   ]
  },
  {
   "cell_type": "code",
   "execution_count": 37,
   "id": "6797eee1",
   "metadata": {},
   "outputs": [
    {
     "name": "stderr",
     "output_type": "stream",
     "text": [
      "100%|██████████| 10000/10000 [02:35<00:00, 64.45it/s]\n"
     ]
    }
   ],
   "source": [
    "#set random seed to guarantee reproducibility\n",
    "np.random.seed(seed=7)\n",
    "\n",
    "# Generate 10K toy experiments based on signal and background hypothesis\n",
    "# Perform discovery test on each toy experiment to obtain q_0 distribtuion\n",
    "Ntoys=10000\n",
    "h0_expect=np.zeros(Ntoys)\n",
    "for i in tqdm(range(Ntoys)):\n",
    "    toy_hist = np.random.poisson(Ns_and_Nb)\n",
    "    q0_output,output0,output1=q0(toy_hist,Ns_predict,Nb_predict)\n",
    "    h0_expect[i]=q0_output"
   ]
  },
  {
   "cell_type": "code",
   "execution_count": 42,
   "id": "fbbc1cd2",
   "metadata": {},
   "outputs": [
    {
     "name": "stdout",
     "output_type": "stream",
     "text": [
      "10000\n"
     ]
    }
   ],
   "source": [
    "print(len(h0_expect))"
   ]
  },
  {
   "cell_type": "code",
   "execution_count": 9,
   "id": "1683f90f",
   "metadata": {},
   "outputs": [
    {
     "name": "stderr",
     "output_type": "stream",
     "text": [
      "100%|██████████| 10000/10000 [02:26<00:00, 68.17it/s]\n"
     ]
    }
   ],
   "source": [
    "#set random seed to guarantee reproducibility\n",
    "np.random.seed(seed=8)\n",
    "\n",
    "\n",
    "# Generate toy experiments based on background only model\n",
    "Ntoys=10000\n",
    "h0_test=np.zeros(Ntoys)\n",
    "for i in tqdm(range(Ntoys)):\n",
    "    toy_hist = np.random.poisson(Nb_predict)\n",
    "    q0_out,output0,output1=q0(toy_hist,Ns_predict,Nb_predict)\n",
    "    h0_test[i]=q0_out"
   ]
  },
  {
   "cell_type": "code",
   "execution_count": 33,
   "id": "745c9ddb",
   "metadata": {},
   "outputs": [
    {
     "name": "stdout",
     "output_type": "stream",
     "text": [
      "Expected $q_0(\\mu=1)$ : 1.68\n",
      "Expected pvalue: 0.098\n",
      "Expected Z-score(1 side)=1.29\n"
     ]
    },
    {
     "data": {
      "image/png": "[encoded data removed]",
      "text/plain": [
       "<Figure size 640x480 with 1 Axes>"
      ]
     },
     "metadata": {},
     "output_type": "display_data"
    }
   ],
   "source": [
    "# Calculate expected p-value and expected significance\n",
    "# Step 1. Find median of the q_0,toy distribution with predicted signal and background\n",
    "q_med=np.median(h0_expect)\n",
    "\n",
    "# Step 2. Compute p-value of the q_0,toy using background-only q_0 distribution\n",
    "pvalue=len(h0_test[h0_test>q_med])/len(h0_test)\n",
    "Zscore= scipy.stats.norm.ppf(1-pvalue) \n",
    "\n",
    "print('Expected $q_0(\\mu=1)$ : %.2f'%q_med)\n",
    "print('Expected pvalue: %.3f'%pvalue)\n",
    "print('Expected Z-score(1 side)=%.2f'%Zscore)\n",
    "\n",
    "\n",
    "Xmin=np.min(h0_test)\n",
    "Xmax=np.max(h0_test)\n",
    "\n",
    "plt.yscale('log')\n",
    "plt.hist(h0_test,bins=100,range=[Xmin,Xmax],histtype='step',label='b-only')\n",
    "plt.hist(h0_expect,bins=100,range=[Xmin,Xmax],histtype='step',label='s+b(mu=1)')\n",
    "plt.hist(h0_test[h0_test>q_med],bins=100,range=[Xmin,Xmax],label='p-value=%.2g'%pvalue)\n",
    "\n",
    "plt.xlabel(\"-2 log likelihood ratio $q_0$\")\n",
    "plt.legend()\n",
    "plt.show()"
   ]
  },
  {
   "cell_type": "markdown",
   "id": "29a3b312",
   "metadata": {},
   "source": [
    "## Part 2a Bayesian discovery test\n",
    "\n",
    "Let's compute the observed significance using the Bayesian approach:\n",
    "$\\mathrm{p-value}= \\sqrt{q_0}$\n"
   ]
  },
  {
   "cell_type": "code",
   "execution_count": 15,
   "id": "c4cdd5fc",
   "metadata": {},
   "outputs": [
    {
     "data": {
      "text/latex": [
       "$\\displaystyle \\mathrm{Bkg-only\\; fit:} \\hat{\\mu}=0.00\\;  \\hat{\\hat{\\theta}}=1.03$"
      ],
      "text/plain": [
       "<IPython.core.display.Math object>"
      ]
     },
     "metadata": {},
     "output_type": "display_data"
    },
    {
     "data": {
      "text/latex": [
       "$\\displaystyle \\mathrm{Sig+Bkg\\; combined\\; fit:} \\hat{\\mu}=1.57\\;  \\hat{\\theta}=1.01$"
      ],
      "text/plain": [
       "<IPython.core.display.Math object>"
      ]
     },
     "metadata": {},
     "output_type": "display_data"
    },
    {
     "name": "stdout",
     "output_type": "stream",
     "text": [
      "q0: 4.207792790033636\n"
     ]
    },
    {
     "data": {
      "image/png": "[encoded data removed]",
      "text/plain": [
       "<Figure size 640x480 with 1 Axes>"
      ]
     },
     "metadata": {},
     "output_type": "display_data"
    }
   ],
   "source": [
    "from IPython.display import display, Math\n",
    "\n",
    "q0_data,outfit0,outfit1=q0(Ndata,Ns_predict,Nb_predict)\n",
    "\n",
    "xspace = np.linspace(xmin,xmax,100)\n",
    "NbOnly_fit = outfit0[1]*Nb_truth*binWidth*norm_B(xspace,Alpha_truth)\n",
    "Ns_fit = outfit1[0]*Ns_truth*binWidth*norm_S(xspace,MH_truth,Width_truth)\n",
    "Nb_fit = outfit1[1]*Nb_truth*binWidth*norm_B(xspace,Alpha_truth)\n",
    "\n",
    "display(Math(r'\\mathrm{Bkg-only\\; fit:} \\hat{\\mu}=%.2f\\;  \\hat{\\hat{\\theta}}=%.2f'%(outfit0[0],outfit0[1])))\n",
    "display(Math(r'\\mathrm{Sig+Bkg\\; combined\\; fit:} \\hat{\\mu}=%.2f\\;  \\hat{\\theta}=%.2f'%(outfit1[0],outfit1[1])))\n",
    "print(\"q0:\",q0_data)\n",
    "\n",
    "fig =  plt.figure()\n",
    "plt.cla()\n",
    "#plt.hist(masses,bins=nbins,range=(xmin,xmax),histtype='step',density=False)\n",
    "plt.errorbar(binCenter, Ndata, Ndata ** 0.5, fmt=\"ok\",label='data')\n",
    "#plt.plot(xspace,NbOnly_fit,label='background-only fit')\n",
    "\n",
    "plt.plot(xspace,Ns_fit+Nb_fit,label='signal+background fit')\n",
    "plt.plot(xspace,Ns_fit,label='signal')\n",
    "#plt.axis([100,180,0,0.05])\n",
    "plt.xlabel(\"$m_{\\gamma\\gamma}$ GeV\")\n",
    "plt.ylabel(\"# Events/%.1g GeV\"%binWidth)\n",
    "\n",
    "#plt.title(\"$\\hat{m}_{H}=%.2f,\\hat{f}_{S}=%.3f,\\hat{\\\\alpha}=%.2f$\"%(res.x[0],res.x[1],res.x[2]))\n",
    "plt.legend()\n",
    "plt.show()"
   ]
  },
  {
   "cell_type": "markdown",
   "id": "93be6b81",
   "metadata": {},
   "source": [
    "Let's plot the -2 log likelihood as function of $\\mu$. In each $\\mu$, the background $\\theta$ is set to the corresponding best fit value."
   ]
  },
  {
   "cell_type": "code",
   "execution_count": 27,
   "id": "64ae90fc",
   "metadata": {},
   "outputs": [
    {
     "name": "stderr",
     "output_type": "stream",
     "text": [
      "100%|██████████| 102/102 [00:01<00:00, 71.49it/s]"
     ]
    },
    {
     "name": "stdout",
     "output_type": "stream",
     "text": [
      "Best fit $\\mu$=1.57 $theta=1.01$\n",
      "p-value Z=\\sqrt(q_0): 0.0206\n",
      "Significance Z=\\sqrt(q_0): 2.0512905181942505\n"
     ]
    },
    {
     "name": "stderr",
     "output_type": "stream",
     "text": [
      "\n"
     ]
    },
    {
     "data": {
      "text/plain": [
       "Text(0, 0.5, '-2 log $L/L_{max}$')"
      ]
     },
     "execution_count": 27,
     "metadata": {},
     "output_type": "execute_result"
    },
    {
     "data": {
      "image/png": "[encoded data removed]",
      "text/plain": [
       "<Figure size 640x480 with 1 Axes>"
      ]
     },
     "metadata": {},
     "output_type": "display_data"
    }
   ],
   "source": [
    "# TODO Error in p-value calculation here (should be <1). Swapped it with frequentist value for now so no NaNs show up.\n",
    "# First, let's get the best fit value of signal and background strength mu, theta\n",
    "q0_data,outfit0,outfit1=q0(Ndata,Ns_predict,Nb_predict)\n",
    "pvalue=len(h0_test[h0_test>q0_data])/len(h0_test)\n",
    "zscore = (q0_data)**.5\n",
    "#or use: scipy.stats.norm.ppf(1-pvalue) to get equivalent result.\n",
    "\n",
    "# Define 102 points, \n",
    "# The first 51 point is between 0 and best fit mu.\n",
    "# The second 51 points are between besft fit mu and factor of 3 of the best fit mu.\n",
    "Npoints =100\n",
    "xspace1 = np.linspace(0,outfit1[0],51)\n",
    "xspace2 =np.linspace(outfit1[0],outfit1[0]*3,51)\n",
    "xspace = [*xspace1, *xspace2]\n",
    "\n",
    "\n",
    "# scan mu to compute each q_mu\n",
    "qmulist = np.zeros(len(xspace))\n",
    "\n",
    "for i in tqdm(range(len(xspace))):\n",
    "    qmu_data,outfit0,outfit1=qmu(xspace[i],Ndata,Ns_predict,Nb_predict)\n",
    "    den = neg_binned_logL(outfit0,Ndata, Ns_predict,Nb_predict)\n",
    "    num = neg_binned_logL(outfit1,Ndata, Ns_predict,Nb_predict)\n",
    "    qmulist[i]=den-num\n",
    "\n",
    "print(\"Best fit $\\mu$=%.2f $theta=%.2f$\"%(outfit1[0],outfit1[1]))\n",
    "print(\"p-value Z=\\sqrt(q_0):\", pvalue)\n",
    "print(\"Significance Z=\\sqrt(q_0):\", zscore)\n",
    "plt.plot(xspace,qmulist,label='likelihood')\n",
    "plt.xlim(xspace[0],xspace[-1])\n",
    "plt.ylim(0,np.max(qmulist))\n",
    "\n",
    "plt.xlabel('Signal strength $\\mu$')\n",
    "plt.ylabel('-2 log $L/L_{max}$')"
   ]
  },
  {
   "cell_type": "markdown",
   "id": "fef0a157",
   "metadata": {},
   "source": [
    "## Part 2b Bayesian Upper limit Credibility Level\n",
    "\n",
    "The significance is less than 5$\\sigma$ which fails the discovery test.\n",
    "We can calculate upper limit using Bayesian approach. It is 95% probablity for $\\mu$ to be less or equal to $\\mu_{obs}$.\n",
    "\n",
    "$$CL = \\frac{\\int_{0}^{\\mu_{95\\%}} L(\\mu|x) d\\mu} {\\int_{0}^{\\infty} L(\\mu|x) d\\mu}$$"
   ]
  },
  {
   "cell_type": "code",
   "execution_count": 23,
   "id": "4d70ebfd",
   "metadata": {},
   "outputs": [
    {
     "name": "stdout",
     "output_type": "stream",
     "text": [
      "95% CL Upper Limit:  2.8340559420089937\n"
     ]
    },
    {
     "data": {
      "text/plain": [
       "<matplotlib.legend.Legend at 0x1bfeda0ca00>"
      ]
     },
     "execution_count": 23,
     "metadata": {},
     "output_type": "execute_result"
    },
    {
     "data": {
      "image/png": "[encoded data removed]",
      "text/plain": [
       "<Figure size 640x480 with 1 Axes>"
      ]
     },
     "metadata": {},
     "output_type": "display_data"
    }
   ],
   "source": [
    "# Task 1 Convert the binned log likelihood to the likelihood and calculate 95% upper limit\n",
    "#\n",
    "CL=0.95\n",
    "LHList = np.exp(-0.5 * qmulist)\n",
    "sumLH=np.sum(LHList)\n",
    "sumL=0\n",
    "idx95=0\n",
    "for i in range(len(LHList)):\n",
    "    sumL += LHList[i]/sumLH\n",
    "    idx95=i\n",
    "    if(sumL >= 0.950):\n",
    "        break\n",
    "\n",
    "print(\"95% CL Upper Limit: \",xspace[idx95])\n",
    "fig, ax = plt.subplots()\n",
    "ax.plot(xspace,LHList)\n",
    "ax.fill_between(xspace[0:idx95],0,LHList[0:idx95],label='Credibility Level=%.2f'%CL)\n",
    "plt.xlim(xspace[0],xspace[-1])\n",
    "plt.xlabel('Signal strength $\\mu$')\n",
    "plt.ylabel('$L/L_{max}$')\n",
    "plt.legend()"
   ]
  },
  {
   "cell_type": "markdown",
   "id": "ab01ad57",
   "metadata": {},
   "source": [
    "## Part 3a: Frequentist Discovery test\n",
    "\n",
    "We will generate background-only toy experiments and count the fraction of $q_0$ test statistics less or equal to the observed $q_{0,obs}.$ "
   ]
  },
  {
   "cell_type": "code",
   "execution_count": 29,
   "id": "695fa3b2",
   "metadata": {},
   "outputs": [
    {
     "name": "stdout",
     "output_type": "stream",
     "text": [
      "q0: 4.207792790033636\n",
      "$\\sqrt{q0}$: 2.0512905181942505\n",
      "pvalue: 0.0206\n",
      "Z-score(1 side)=2.04\n",
      "The frequentist p-value is similar to Bayesian p-value.\n"
     ]
    },
    {
     "data": {
      "image/png": "[encoded data removed]",
      "text/plain": [
       "<Figure size 640x480 with 1 Axes>"
      ]
     },
     "metadata": {},
     "output_type": "display_data"
    }
   ],
   "source": [
    "# Calculate p-value\n",
    "mu=0\n",
    "q0_data,output0,output1=q0(Ndata,Ns_predict,Nb_predict)\n",
    "\n",
    "Xmin=np.min(h0_test)\n",
    "Xmax=np.max(h0_test)\n",
    "\n",
    "pvalue=len(h0_test[h0_test>q0_data])/len(h0_test)\n",
    "\n",
    "print('q0:', q0_data)\n",
    "print('$\\sqrt{q0}$:', (q0_data)**.5)\n",
    "print('pvalue:',pvalue)\n",
    "print('Z-score(1 side)=%.2f'%scipy.stats.norm.ppf(1-pvalue))\n",
    "print('The frequentist p-value is similar to Bayesian p-value.')\n",
    "\n",
    "plt.yscale('log')\n",
    "plt.hist(h0_test,bins=100,range=[Xmin,Xmax],histtype='step',label='s+b(mu=%.2f)'%mu)\n",
    "plt.hist(h0_test[h0_test>q0_data],bins=100,range=[Xmin,Xmax],label='p-value=%.2g'%pvalue)\n",
    "\n",
    "plt.xlabel(\"-2 log likelihood ratio $q_0$\")\n",
    "plt.legend()\n",
    "plt.show()"
   ]
  },
  {
   "cell_type": "markdown",
   "id": "f2a44ad1",
   "metadata": {},
   "source": [
    "## Part 3b Calculate Frequentist upper limit.\n",
    "\n",
    "The 95% Confidence Level upper limit $\\mu_{95}$ is calculated through the procedure:\n",
    "1. Generate signal+background toy experiments with $\\mu_{95}$.\n",
    "2. Calculate p-value by counting fraction of the $q_{\\mu}$ less or equal to $q_{\\mu_{95}}$.\n",
    "3. The 95% CL means p-value is 0.05.\n"
   ]
  },
  {
   "cell_type": "code",
   "execution_count": 45,
   "id": "0011a979",
   "metadata": {},
   "outputs": [],
   "source": [
    "# Task 2: define a function to compute the p-value of qmu.\n",
    "\n",
    "Ntoys=10000\n",
    "def qmu_pvalue(mu,Ndata,Ns_predict,Nb_predict):\n",
    "    N_predict = mu*Ns_predict+Nb_predict\n",
    "\n",
    "    hmu_expect=np.zeros(Ntoys)\n",
    "    for i in tqdm(range(Ntoys)):\n",
    "        # Generate signal (mu)+background toy experiment\n",
    "        toy_hist = np.random.poisson(N_predict)\n",
    "        # Compute qmu of each toy experiment\n",
    "        qmu_output,output0,output1=qmu(mu,toy_hist,Ns_predict,Nb_predict)\n",
    "        hmu_expect[i]=qmu_output\n",
    "\n",
    "    # compute qmu of pseudo-data\n",
    "    qmu_data,output0,output1=qmu(mu,Ndata,Ns_predict,Nb_predict)\n",
    "\n",
    "    # calculate fraction of toy experiments with qmu greater or equal to the qmu of pseudo-data\n",
    "    pvalue= len(hmu_expect[hmu_expect>qmu_data])/len(hmu_expect)\n",
    "    return [pvalue,hmu_expect]"
   ]
  },
  {
   "cell_type": "code",
   "execution_count": 46,
   "id": "cbc7e980",
   "metadata": {},
   "outputs": [],
   "source": [
    "# Define a function which performs binary search to look for 95% Confidence Level limit\n",
    "def CalUpperLimit(alpha,N_data,Ns_predict,Nb_predict):\n",
    "\n",
    "    #Search mu_95 between best fit of strength mu and mu+2 Z, Z=sqrt{q_0,obs}\n",
    "    q0_output,output0,output1=q0(N_data,Ns_predict,Nb_predict)\n",
    "    \n",
    "    high=output1[0]\n",
    "    low=high+2* q0_output**.5\n",
    "    print(\"high p-value \\mu=%.2f low p-value \\mu=%.3f\"%(high,low))\n",
    "\n",
    "    pval_UL=1\n",
    "    mu_UL=(high+low)/2\n",
    "    qmu_UL=np.zeros(Ntoys)\n",
    "\n",
    "    # Perform binary search within 0.002 range of target p-value \n",
    "    while True:\n",
    "        mu_UL=(high+low)/2\n",
    "        pval_UL, qmu_UL=qmu_pvalue(mu_UL,N_data,Ns_predict,Nb_predict)\n",
    "        print(\"\\mu=%.3f p-value=%.3f\"%(mu_UL,pval_UL))\n",
    "        if (abs(high - low)<0.002) or (abs(pval_UL-alpha)<0.002):\n",
    "            break\n",
    "\n",
    "        if pval_UL>alpha :\n",
    "            high=mu_UL\n",
    "        else:\n",
    "            low=mu_UL\n",
    "\n",
    "    return (mu_UL, qmu_UL, pval_UL)"
   ]
  },
  {
   "cell_type": "code",
   "execution_count": 47,
   "id": "a925c317",
   "metadata": {},
   "outputs": [
    {
     "name": "stdout",
     "output_type": "stream",
     "text": [
      "high p-value \\mu=1.57 low p-value \\mu=5.677\n"
     ]
    },
    {
     "name": "stderr",
     "output_type": "stream",
     "text": [
      "100%|██████████| 10000/10000 [01:51<00:00, 89.59it/s]\n"
     ]
    },
    {
     "name": "stdout",
     "output_type": "stream",
     "text": [
      "\\mu=3.626 p-value=0.008\n"
     ]
    },
    {
     "name": "stderr",
     "output_type": "stream",
     "text": [
      "100%|██████████| 10000/10000 [01:46<00:00, 93.50it/s]\n"
     ]
    },
    {
     "name": "stdout",
     "output_type": "stream",
     "text": [
      "\\mu=2.600 p-value=0.105\n"
     ]
    },
    {
     "name": "stderr",
     "output_type": "stream",
     "text": [
      "100%|██████████| 10000/10000 [01:47<00:00, 92.59it/s]\n"
     ]
    },
    {
     "name": "stdout",
     "output_type": "stream",
     "text": [
      "\\mu=3.113 p-value=0.035\n"
     ]
    },
    {
     "name": "stderr",
     "output_type": "stream",
     "text": [
      "100%|██████████| 10000/10000 [01:49<00:00, 91.52it/s]\n"
     ]
    },
    {
     "name": "stdout",
     "output_type": "stream",
     "text": [
      "\\mu=2.857 p-value=0.064\n"
     ]
    },
    {
     "name": "stderr",
     "output_type": "stream",
     "text": [
      "100%|██████████| 10000/10000 [01:51<00:00, 89.70it/s]\n"
     ]
    },
    {
     "name": "stdout",
     "output_type": "stream",
     "text": [
      "\\mu=2.985 p-value=0.040\n"
     ]
    },
    {
     "name": "stderr",
     "output_type": "stream",
     "text": [
      "100%|██████████| 10000/10000 [01:48<00:00, 91.94it/s]\n"
     ]
    },
    {
     "name": "stdout",
     "output_type": "stream",
     "text": [
      "\\mu=2.921 p-value=0.054\n"
     ]
    },
    {
     "name": "stderr",
     "output_type": "stream",
     "text": [
      "100%|██████████| 10000/10000 [02:07<00:00, 78.25it/s]"
     ]
    },
    {
     "name": "stdout",
     "output_type": "stream",
     "text": [
      "\\mu=2.953 p-value=0.050\n"
     ]
    },
    {
     "name": "stderr",
     "output_type": "stream",
     "text": [
      "\n"
     ]
    }
   ],
   "source": [
    "# Execute function to search for 95% CL limit of signal strength\n",
    "\n",
    "mu_UL, qmu_UL, pval_UL=CalUpperLimit(0.05,Ndata,Ns_predict,Nb_predict)"
   ]
  },
  {
   "cell_type": "code",
   "execution_count": 48,
   "id": "630519da",
   "metadata": {},
   "outputs": [
    {
     "data": {
      "text/latex": [
       "$\\displaystyle \\mathrm{\\mu+Bkg\\; fit:} \\mu_{95}=2.95\\;  \\hat{\\hat{\\theta}}=1.00$"
      ],
      "text/plain": [
       "<IPython.core.display.Math object>"
      ]
     },
     "metadata": {},
     "output_type": "display_data"
    },
    {
     "data": {
      "text/latex": [
       "$\\displaystyle \\mathrm{Sig+Bkg\\; combined\\; fit:} \\hat{\\mu}=1.57\\;  \\hat{\\theta}=1.01$"
      ],
      "text/plain": [
       "<IPython.core.display.Math object>"
      ]
     },
     "metadata": {},
     "output_type": "display_data"
    },
    {
     "data": {
      "text/latex": [
       "$\\displaystyle q_{\\mu_{95}}=2.74\\; \\mathrm{pvalue=}0.05$"
      ],
      "text/plain": [
       "<IPython.core.display.Math object>"
      ]
     },
     "metadata": {},
     "output_type": "display_data"
    },
    {
     "data": {
      "image/png": "[encoded data removed]",
      "text/plain": [
       "<Figure size 640x480 with 1 Axes>"
      ]
     },
     "metadata": {},
     "output_type": "display_data"
    }
   ],
   "source": [
    "# Print results\n",
    "\n",
    "qmu_data,output0,output1=qmu(mu_UL,Ndata,Ns_predict,Nb_predict)\n",
    "pvalue=len(qmu_UL[qmu_UL>qmu_data])/len(qmu_UL)\n",
    "\n",
    "display(Math(r'\\mathrm{\\mu+Bkg\\; fit:} \\mu_{95}=%.2f\\;  \\hat{\\hat{\\theta}}=%.2f'%(output0[0],output0[1])))\n",
    "display(Math(r'\\mathrm{Sig+Bkg\\; combined\\; fit:} \\hat{\\mu}=%.2f\\;  \\hat{\\theta}=%.2f'%(output1[0],output1[1])))\n",
    "\n",
    "display(Math(r'q_{\\mu_{95}}=%.2f\\; \\mathrm{pvalue=}%.2f'%(qmu_data,pvalue)))\n",
    "\n",
    "#print('median',np.median(hmu_bkgonly))\n",
    "plt.yscale('log')\n",
    "#plt.hist(hmu_bkgonly,bins=100,range=[Xmin,Xmax],histtype='step',label='b-only')\n",
    "plt.hist(qmu_UL,bins=100,range=[Xmin,Xmax],histtype='step',label='s+b($\\mu=%.2f$)'%mu_UL)\n",
    "plt.hist(qmu_UL[qmu_UL>qmu_data],bins=100,range=[Xmin,Xmax],label='p-value=%.2g'%pvalue)\n",
    "\n",
    "plt.xlabel(\"-2 log likelihood ratio $q_{\\mu}(\\mu=%.2f)$\"%mu_UL)\n",
    "plt.legend()\n",
    "plt.show()"
   ]
  },
  {
   "cell_type": "markdown",
   "id": "c9c83c79",
   "metadata": {},
   "source": [
    "# Lecture 18\n",
    "\n",
    "We will practice K-means clustering, Principal Component Analysis and t-SNE dimensional reduction. \n",
    "\n",
    "You have to install following packages for Part4:\n",
    "sklearn: https://scikit-learn.org/stable/install.html\n",
    "\n",
    "\n",
    "\n",
    "## Part 4 Clustering\n",
    "\n",
    "We are going to implement $k$-Means, which is a very simple, yet powerful algothim. *K*-Means algorithm clusters data by trying to separate $n$ observations into $k$ clusters. Each observation belongs to the cluster with the nearest mean of the cluster centers also known as *centroids*. The algorithm has three steps: initialization of centroids, and looping over expectation and maximization step. Expectation step assigns each sample to their nearest centroid. The maximization step recalculates new centroids by taking the mean value of all of the samples assigned to each previous centroid.\n",
    "\n",
    "This is adopted from this reference:\n",
    "https://github.com/savvy379/codashep_ml_2022/tree/main/lecture3_unsupervised"
   ]
  },
  {
   "cell_type": "code",
   "execution_count": null,
   "id": "d0430ff0",
   "metadata": {},
   "outputs": [],
   "source": [
    "# Let's import what we need for this part\n",
    "\n",
    "import numpy as np\n",
    "import matplotlib.pyplot as plt\n",
    "%matplotlib inline\n",
    "\n",
    "from sklearn.datasets import make_blobs"
   ]
  },
  {
   "cell_type": "code",
   "execution_count": null,
   "id": "98969b9e",
   "metadata": {},
   "outputs": [],
   "source": [
    "# Let's generate sample data\n",
    "\n",
    "n_samples = 1000\n",
    "n_components = 3\n",
    "\n",
    "X, y_true = make_blobs(\n",
    "    n_samples=n_samples, centers=n_components, n_features=2, cluster_std=1, random_state=42\n",
    ")\n",
    "X = X[:, ::-1]"
   ]
  },
  {
   "cell_type": "code",
   "execution_count": null,
   "id": "cda4b0ea",
   "metadata": {},
   "outputs": [],
   "source": [
    "# Our data looks like this:\n",
    "\n",
    "plt.scatter(X[:,0], X[:,1], s=10, alpha=.5);"
   ]
  },
  {
   "cell_type": "code",
   "execution_count": null,
   "id": "eb662dd6",
   "metadata": {},
   "outputs": [],
   "source": [
    "# We need to define our distance metric. Let's calculate a simple euclidean distance\n",
    "\n",
    "def euclidean_distance(X, c):\n",
    "    return np.linalg.norm(np.array(X-c), axis=1)"
   ]
  },
  {
   "cell_type": "markdown",
   "id": "8681dfff",
   "metadata": {},
   "source": [
    "We are going to build our k-Means using the algorithm below:\n",
    "\n",
    "![](https://files.realpython.com/media/kmeans-algorithm.a94498a7ecd2.png)"
   ]
  },
  {
   "cell_type": "code",
   "execution_count": null,
   "id": "47d077a9",
   "metadata": {},
   "outputs": [],
   "source": [
    "# Implement kMean clustering algorithm\n",
    "\n",
    "class kMeans():\n",
    "    \n",
    "    def __init__(self, k, x):\n",
    "        #Initialize random centroids\n",
    "        self.c = 5*np.random.random((k,2))\n",
    "        #Initialize data\n",
    "        self.x = x\n",
    "        #Initialize cluster predictions\n",
    "        self.cluster = None\n",
    "\n",
    "    def fit_step(self):\n",
    "        # Expectation: calculate distances\n",
    "        dist = np.zeros((len(self.x), len(self.c)))\n",
    "        for idx, _ in enumerate(self.c):     \n",
    "            dist[:, idx] = euclidean_distance(self.x, _)\n",
    "\n",
    "        # Assign clusters based on the distance\n",
    "        self.cluster = np.argmin(dist, axis=1) \n",
    "\n",
    "        # Maximization: recalcuate cluster centers\n",
    "        for idx, _ in enumerate(self.c):\n",
    "            mask = self.cluster == idx\n",
    "            self.c[idx] = self.x[mask].mean(0)\n",
    "        \n",
    "    def get_centroids(self):\n",
    "        return self.c\n",
    "    \n",
    "    def get_y_pred(self):\n",
    "        return self.cluster"
   ]
  },
  {
   "cell_type": "code",
   "execution_count": null,
   "id": "108025fb",
   "metadata": {},
   "outputs": [],
   "source": [
    "# Initialize your k-Means algorihtm with k=3\n",
    "\n",
    "my_k_means = kMeans(3, X)"
   ]
  },
  {
   "cell_type": "code",
   "execution_count": null,
   "id": "e53fa631",
   "metadata": {},
   "outputs": [],
   "source": [
    "# Let's see where are the initial cluster\n",
    "\n",
    "centroids = my_k_means.get_centroids()\n",
    "plt.scatter(X[:,0], X[:,1], s=10, alpha=.5, c='blue') # our original data\n",
    "plt.scatter(centroids[:, 0], centroids[:, 1], c='orange') # plot centroids \n",
    "plt.show();"
   ]
  },
  {
   "cell_type": "code",
   "execution_count": null,
   "id": "81128822",
   "metadata": {},
   "outputs": [],
   "source": [
    "# Let's do first step of fitting\n",
    "\n",
    "my_k_means.fit_step()\n",
    "centroids = my_k_means.get_centroids()\n",
    "plt.scatter(X[:,0], X[:,1], s=10, alpha=.5, c='blue') # our original data\n",
    "plt.scatter(centroids[:, 0], centroids[:, 1], c='orange') # plot centroids \n",
    "plt.show();"
   ]
  },
  {
   "cell_type": "code",
   "execution_count": null,
   "id": "79264464",
   "metadata": {},
   "outputs": [],
   "source": [
    "# Let's check if we clustered the data well.\n",
    "# y_true should equal to y_pred in all cases, i.e. adjusted_rand_score = 1\n",
    "# We cannot simply compare y_true == y_pred since the cluster \"naming\" is not guaranteed\n",
    "\n",
    "from sklearn.metrics.cluster import adjusted_rand_score\n",
    "print(adjusted_rand_score(y_true, my_k_means.get_y_pred()))"
   ]
  },
  {
   "cell_type": "markdown",
   "id": "6d352c24",
   "metadata": {},
   "source": [
    "Let's do one more step of fitting."
   ]
  },
  {
   "cell_type": "code",
   "execution_count": null,
   "id": "392aa6c2",
   "metadata": {},
   "outputs": [],
   "source": [
    "my_k_means.fit_step()\n",
    "centroids = my_k_means.get_centroids()\n",
    "plt.scatter(X[:,0], X[:,1], s=10, alpha=.5, c='blue') # our original data\n",
    "plt.scatter(centroids[:, 0], centroids[:, 1], c='orange') # plot centroids \n",
    "plt.show();"
   ]
  },
  {
   "cell_type": "code",
   "execution_count": null,
   "id": "d27d13bf",
   "metadata": {},
   "outputs": [],
   "source": [
    "# Let's check the quality again. \n",
    "# As we can see, we have achieved a stable and the best performance.\n",
    "\n",
    "from sklearn.metrics.cluster import adjusted_rand_score\n",
    "print(adjusted_rand_score(y_true, my_k_means.get_y_pred()))"
   ]
  },
  {
   "cell_type": "markdown",
   "id": "10dda1b8",
   "metadata": {},
   "source": [
    "Task 4: Now, your turn. Run kMeans with k=2 and quantify the quality with score value."
   ]
  },
  {
   "cell_type": "code",
   "execution_count": null,
   "id": "4840f9df",
   "metadata": {},
   "outputs": [],
   "source": [
    "# Write your code here\n"
   ]
  },
  {
   "cell_type": "markdown",
   "id": "50dd9530",
   "metadata": {},
   "source": [
    "## Part 5 Dimensionality Reduction with PCA and t-SNE\n",
    "\n",
    "Working in high-dimensional spaces can be undesirable for many reasons. But most importantly it is difficult to visualize high-dimensional data. In order to reduce the dimensionality we should transforms original data in a clever way. We will try two techniques: PCA (linear) and t-SNE (non-linear) techinique. PCA tries to maximize the variance in low-dimensional embedding while t-SNE tries to preserve local similarities. Both methods are unsupervised.\n",
    "\n",
    "From now on we are goint to use a dataset of images of hand writing numbers (MNIST database). It is a popular ML dataset for experiments and learning. It is perfect for the the next few exercises where we want to understand the alogithms and models. Physics datasetes tend to be less trivial.\n",
    "\n",
    "We will have 70,000 grayscale images of 784 pixels (28x28 px).\n",
    "\n",
    "You have to install following tools\n",
    "* torch\n",
    "* torchvision\n",
    "* torchaudio\n",
    "\n",
    "https://www.geeksforgeeks.org/how-to-install-pytorch-on-macos/"
   ]
  },
  {
   "cell_type": "code",
   "execution_count": null,
   "id": "954068e2",
   "metadata": {},
   "outputs": [],
   "source": [
    "# Import torchvision for downloading and processing the dataset\n",
    "# https://www.geeksforgeeks.org/how-to-install-pytorch-on-macos/\n",
    "# pip3 install torch torchvision torchaudio\n",
    "# \n",
    "\n",
    "from torchvision import transforms\n",
    "from torchvision.datasets import MNIST"
   ]
  },
  {
   "cell_type": "code",
   "execution_count": null,
   "id": "6d81cb20",
   "metadata": {},
   "outputs": [],
   "source": [
    "# Collect the dataset\n",
    "\n",
    "dataset = MNIST('../data', transform=transforms.ToTensor(), download=True)"
   ]
  },
  {
   "cell_type": "code",
   "execution_count": null,
   "id": "ae9b27d3",
   "metadata": {},
   "outputs": [],
   "source": [
    "# Convert to numpy array\n",
    "\n",
    "data = dataset.data.numpy().reshape(60000, -1)\n",
    "targets = dataset.targets.numpy()"
   ]
  },
  {
   "cell_type": "code",
   "execution_count": null,
   "id": "5e04c6b8",
   "metadata": {},
   "outputs": [],
   "source": [
    "# Let's plot a few samples\n",
    "\n",
    "figure, axis = plt.subplots(1, 10)\n",
    "\n",
    "for i in range(10):\n",
    "    img = data[i]\n",
    "    img = img.reshape(28, 28)\n",
    "    axis[i].get_xaxis().set_visible(False)\n",
    "    axis[i].get_yaxis().set_visible(False)\n",
    "    axis[i].imshow(img)\n"
   ]
  },
  {
   "cell_type": "markdown",
   "id": "765fdc9e",
   "metadata": {},
   "source": [
    "Let's start with PCA with two components."
   ]
  },
  {
   "cell_type": "code",
   "execution_count": null,
   "id": "4b786fa0",
   "metadata": {},
   "outputs": [],
   "source": [
    "# Finally, let's run PCA with 2 components\n",
    "\n",
    "from sklearn.decomposition import PCA\n",
    "\n",
    "pca = PCA(n_components=2)\n",
    "pca.fit(data)"
   ]
  },
  {
   "cell_type": "code",
   "execution_count": null,
   "id": "1afc0f56",
   "metadata": {},
   "outputs": [],
   "source": [
    "# Check the variance ratio for each component\n",
    "\n",
    "print(pca.explained_variance_ratio_)"
   ]
  },
  {
   "cell_type": "code",
   "execution_count": null,
   "id": "c2443cfd",
   "metadata": {},
   "outputs": [],
   "source": [
    "# Transform the data\n",
    "\n",
    "low_dim = pca.transform(data)\n",
    "print(\"shape of pca_reduced data:\", low_dim.shape)"
   ]
  },
  {
   "cell_type": "code",
   "execution_count": null,
   "id": "6b57251b",
   "metadata": {},
   "outputs": [],
   "source": [
    "# Plot 2d embeddings\n",
    "\n",
    "s = plt.scatter(low_dim[:,0], low_dim[:,1], s=10, c=targets)\n",
    "plt.legend(*s.legend_elements())\n",
    "plt.show();"
   ]
  },
  {
   "cell_type": "markdown",
   "id": "a2a0961f",
   "metadata": {},
   "source": [
    "Now, let's try a similar exercise for TSNE"
   ]
  },
  {
   "cell_type": "code",
   "execution_count": null,
   "id": "c6be442a",
   "metadata": {},
   "outputs": [],
   "source": [
    "# Import TSNE\n",
    "from sklearn.manifold import TSNE\n",
    "\n",
    "# Let's reduce the number of dimensions with PCA first to reduce computational complexity\n",
    "# We will also visualize only 1/6 of the dataset for the same reason\n",
    "\n",
    "pca = PCA(n_components=50)\n",
    "embedded = pca.fit_transform(data[:10000])"
   ]
  },
  {
   "cell_type": "code",
   "execution_count": null,
   "id": "23e25aba",
   "metadata": {},
   "outputs": [],
   "source": [
    "# Initialize TSNE\n",
    "\n",
    "tsne = TSNE(n_components=2, init='random', perplexity=5)"
   ]
  },
  {
   "cell_type": "code",
   "execution_count": null,
   "id": "f5569c43",
   "metadata": {},
   "outputs": [],
   "source": [
    "# Calculate embeddings. This can take a moment\n",
    "\n",
    "embedded1 = tsne.fit_transform(embedded)"
   ]
  },
  {
   "cell_type": "code",
   "execution_count": null,
   "id": "d0143963",
   "metadata": {},
   "outputs": [],
   "source": [
    "# Plot 2d embeddings\n",
    "\n",
    "s = plt.scatter(embedded1[:,0], embedded1[:,1], s=10, c=targets[:10000])\n",
    "plt.legend(*s.legend_elements());"
   ]
  },
  {
   "cell_type": "markdown",
   "id": "85da9fb3",
   "metadata": {},
   "source": [
    "Task 5: \n",
    "Now your Turn. Try t-SNE with two different preplexity: 10, 30"
   ]
  },
  {
   "cell_type": "code",
   "execution_count": null,
   "id": "b4956543",
   "metadata": {},
   "outputs": [],
   "source": [
    "# t-SNE with perplexity 10\n",
    "# Write your code here\n"
   ]
  },
  {
   "cell_type": "code",
   "execution_count": null,
   "id": "ac63a761",
   "metadata": {},
   "outputs": [],
   "source": []
  },
  {
   "cell_type": "code",
   "execution_count": null,
   "id": "9a625c28",
   "metadata": {},
   "outputs": [],
   "source": [
    "# t-SNE with perplexity 30\n",
    "# Write your code here"
   ]
  },
  {
   "cell_type": "code",
   "execution_count": null,
   "id": "5a95864c",
   "metadata": {},
   "outputs": [],
   "source": []
  },
  {
   "cell_type": "markdown",
   "id": "5313c436",
   "metadata": {},
   "source": [
    "Task 6: Describe your observation of comparison between PCA and t-SNE with different perplexity values 5, 10, 30.\n",
    "\n",
    "Write your answer here:\n"
   ]
  }
 ],
 "metadata": {
  "kernelspec": {
   "display_name": "Python 3.8.12 ('base')",
   "language": "python",
   "name": "python3"
  },
  "language_info": {
   "codemirror_mode": {
    "name": "ipython",
    "version": 3
   },
   "file_extension": ".py",
   "mimetype": "text/x-python",
   "name": "python",
   "nbconvert_exporter": "python",
   "pygments_lexer": "ipython3",
   "version": "3.8.15"
  },
  "vscode": {
   "interpreter": {
    "hash": "6f5583cf1d9466b5c27e75c89cc6b383bed5736d6b16c51c8074d8690011a952"
   }
  }
 },
 "nbformat": 4,
 "nbformat_minor": 5
}
